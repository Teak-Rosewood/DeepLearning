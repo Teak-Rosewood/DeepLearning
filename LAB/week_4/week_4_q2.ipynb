{
 "cells": [
  {
   "cell_type": "code",
   "execution_count": 1,
   "id": "1aa5e084",
   "metadata": {},
   "outputs": [],
   "source": [
    "import os \n",
    "os.environ['TF_CPP_MIN_LOG_LEVEL'] = '3' \n",
    "import pandas as pd\n",
    "import numpy as np \n",
    "import matplotlib.pyplot as plt\n",
    "import tensorflow as tf"
   ]
  },
  {
   "cell_type": "code",
   "execution_count": 2,
   "id": "44c90dab",
   "metadata": {},
   "outputs": [
    {
     "name": "stdout",
     "output_type": "stream",
     "text": [
      "Model: \"sequential\"\n",
      "_________________________________________________________________\n",
      " Layer (type)                Output Shape              Param #   \n",
      "=================================================================\n",
      " vgg16 (Functional)          (None, 7, 7, 512)         14714688  \n",
      "                                                                 \n",
      " flatten (Flatten)           (None, 25088)             0         \n",
      "                                                                 \n",
      " dense (Dense)               (None, 2)                 50178     \n",
      "                                                                 \n",
      "=================================================================\n",
      "Total params: 14,764,866\n",
      "Trainable params: 50,178\n",
      "Non-trainable params: 14,714,688\n",
      "_________________________________________________________________\n"
     ]
    }
   ],
   "source": [
    "# VGG-16\n",
    "\n",
    "from keras.applications.vgg16 import VGG16\n",
    "\n",
    "base_vgg = VGG16(input_shape=(224,224,3), weights='imagenet', include_top=False)\n",
    "base_vgg.trainable = False \n",
    "\n",
    "vgg = tf.keras.Sequential([\n",
    "    base_vgg,\n",
    "    tf.keras.layers.Flatten(),\n",
    "    tf.keras.layers.Dense(2, activation='softmax')\n",
    "])\n",
    "\n",
    "vgg.summary()\n",
    "\n",
    "vgg.compile(loss = 'categorical_crossentropy',\n",
    "            optimizer = tf.keras.optimizers.Adam(learning_rate=0.0001),\n",
    "            metrics=['accuracy']\n",
    "            )"
   ]
  },
  {
   "cell_type": "code",
   "execution_count": 3,
   "id": "f96cd801",
   "metadata": {},
   "outputs": [
    {
     "name": "stdout",
     "output_type": "stream",
     "text": [
      "Model: \"sequential_1\"\n",
      "_________________________________________________________________\n",
      " Layer (type)                Output Shape              Param #   \n",
      "=================================================================\n",
      " inception_v3 (Functional)   (None, 5, 5, 2048)        21802784  \n",
      "                                                                 \n",
      " flatten_1 (Flatten)         (None, 51200)             0         \n",
      "                                                                 \n",
      " dense_1 (Dense)             (None, 2)                 102402    \n",
      "                                                                 \n",
      "=================================================================\n",
      "Total params: 21,905,186\n",
      "Trainable params: 102,402\n",
      "Non-trainable params: 21,802,784\n",
      "_________________________________________________________________\n"
     ]
    }
   ],
   "source": [
    "# GoogleNet \n",
    "\n",
    "base_googlenet = tf.keras.applications.inception_v3.InceptionV3(input_shape=(224,224,3),\n",
    "                                                             weights='imagenet',\n",
    "                                                             include_top=False)\n",
    "base_googlenet.trainable = False \n",
    "googlenet = tf.keras.Sequential([\n",
    "    base_googlenet,\n",
    "    tf.keras.layers.Flatten(),\n",
    "    tf.keras.layers.Dense(2, activation='softmax')\n",
    "])\n",
    "\n",
    "googlenet.summary()\n",
    "\n",
    "googlenet.compile(loss = 'categorical_crossentropy',\n",
    "            optimizer = tf.keras.optimizers.Adam(learning_rate=0.0001),\n",
    "            metrics=['accuracy']\n",
    "            )"
   ]
  },
  {
   "cell_type": "code",
   "execution_count": 4,
   "id": "cfcc6dbf",
   "metadata": {},
   "outputs": [
    {
     "name": "stdout",
     "output_type": "stream",
     "text": [
      "Model: \"sequential_2\"\n",
      "_________________________________________________________________\n",
      " Layer (type)                Output Shape              Param #   \n",
      "=================================================================\n",
      " resnet50 (Functional)       (None, 7, 7, 2048)        23587712  \n",
      "                                                                 \n",
      " flatten_2 (Flatten)         (None, 100352)            0         \n",
      "                                                                 \n",
      " dense_2 (Dense)             (None, 2)                 200706    \n",
      "                                                                 \n",
      "=================================================================\n",
      "Total params: 23,788,418\n",
      "Trainable params: 200,706\n",
      "Non-trainable params: 23,587,712\n",
      "_________________________________________________________________\n"
     ]
    }
   ],
   "source": [
    "# ResNet50\n",
    "\n",
    "base = tf.keras.applications.resnet50.ResNet50(input_shape=(224,224,3),\n",
    "                                                             weights='imagenet',\n",
    "                                                             include_top=False)\n",
    "base.trainable = False\n",
    "resnet = tf.keras.Sequential([\n",
    "    base,\n",
    "    tf.keras.layers.Flatten(),\n",
    "    tf.keras.layers.Dense(2, activation='softmax')\n",
    "])\n",
    "\n",
    "resnet.summary()\n",
    "\n",
    "resnet.compile(loss = 'categorical_crossentropy',\n",
    "            optimizer = tf.keras.optimizers.Adam(learning_rate=0.0001),\n",
    "            metrics=['accuracy']\n",
    "            )"
   ]
  },
  {
   "cell_type": "code",
   "execution_count": 5,
   "id": "cabab170",
   "metadata": {},
   "outputs": [
    {
     "name": "stdout",
     "output_type": "stream",
     "text": [
      "Model: \"sequential_3\"\n",
      "_________________________________________________________________\n",
      " Layer (type)                Output Shape              Param #   \n",
      "=================================================================\n",
      " efficientnetb0 (Functional)  (None, 7, 7, 1280)       4049571   \n",
      "                                                                 \n",
      " flatten_3 (Flatten)         (None, 62720)             0         \n",
      "                                                                 \n",
      " dense_3 (Dense)             (None, 2)                 125442    \n",
      "                                                                 \n",
      "=================================================================\n",
      "Total params: 4,175,013\n",
      "Trainable params: 125,442\n",
      "Non-trainable params: 4,049,571\n",
      "_________________________________________________________________\n"
     ]
    }
   ],
   "source": [
    "# EfficientNetB0\n",
    "\n",
    "base = tf.keras.applications.efficientnet.EfficientNetB0(input_shape=(224,224,3),\n",
    "                                                             weights='imagenet',\n",
    "                                                             include_top=False)\n",
    "base.trainable = False\n",
    "efficientnet = tf.keras.Sequential([\n",
    "    base,\n",
    "    tf.keras.layers.Flatten(),\n",
    "    tf.keras.layers.Dense(2, activation='softmax')\n",
    "])\n",
    "\n",
    "efficientnet.summary()\n",
    "\n",
    "efficientnet.compile(loss = 'categorical_crossentropy',\n",
    "            optimizer = tf.keras.optimizers.Adam(learning_rate=0.0001),\n",
    "            metrics=['accuracy']\n",
    "            )"
   ]
  },
  {
   "cell_type": "code",
   "execution_count": 6,
   "id": "189ea553",
   "metadata": {},
   "outputs": [
    {
     "name": "stdout",
     "output_type": "stream",
     "text": [
      "Model: \"sequential_4\"\n",
      "_________________________________________________________________\n",
      " Layer (type)                Output Shape              Param #   \n",
      "=================================================================\n",
      " mobilenetv2_1.00_224 (Funct  (None, 7, 7, 1280)       2257984   \n",
      " ional)                                                          \n",
      "                                                                 \n",
      " flatten_4 (Flatten)         (None, 62720)             0         \n",
      "                                                                 \n",
      " dense_4 (Dense)             (None, 2)                 125442    \n",
      "                                                                 \n",
      "=================================================================\n",
      "Total params: 2,383,426\n",
      "Trainable params: 125,442\n",
      "Non-trainable params: 2,257,984\n",
      "_________________________________________________________________\n"
     ]
    }
   ],
   "source": [
    "# MobileNetV2\n",
    "\n",
    "base = tf.keras.applications.mobilenet_v2.MobileNetV2(input_shape=(224,224,3),\n",
    "                                                             weights='imagenet',\n",
    "                                                             include_top=False)\n",
    "base.trainable = False\n",
    "mobilenet = tf.keras.Sequential([\n",
    "    base,\n",
    "    tf.keras.layers.Flatten(),\n",
    "    tf.keras.layers.Dense(2, activation='softmax')\n",
    "])\n",
    "\n",
    "mobilenet.summary()\n",
    "\n",
    "mobilenet.compile(loss = 'categorical_crossentropy',\n",
    "            optimizer = tf.keras.optimizers.Adam(learning_rate=0.0001),\n",
    "            metrics=['accuracy']\n",
    "            )"
   ]
  },
  {
   "cell_type": "code",
   "execution_count": 7,
   "id": "883435f0",
   "metadata": {},
   "outputs": [
    {
     "name": "stdout",
     "output_type": "stream",
     "text": [
      "Found 2000 files belonging to 2 classes.\n",
      "Found 1000 files belonging to 2 classes.\n"
     ]
    }
   ],
   "source": [
    "# Cats & Dogs Dataset\n",
    "\n",
    "train = tf.keras.utils.image_dataset_from_directory('CatsDogs/train', image_size=((224,224)), label_mode='categorical')\n",
    "val = tf.keras.utils.image_dataset_from_directory('CatsDogs/validation', image_size=(224,224), label_mode='categorical')"
   ]
  },
  {
   "cell_type": "code",
   "execution_count": 8,
   "id": "6b65bc75",
   "metadata": {},
   "outputs": [
    {
     "name": "stdout",
     "output_type": "stream",
     "text": [
      "Epoch 1/20\n",
      "63/63 [==============================] - 27s 323ms/step - loss: 2.5841 - accuracy: 0.8335 - val_loss: 0.9097 - val_accuracy: 0.9200\n",
      "Epoch 2/20\n",
      "63/63 [==============================] - 16s 252ms/step - loss: 0.4379 - accuracy: 0.9615 - val_loss: 0.8402 - val_accuracy: 0.9300\n",
      "Epoch 3/20\n",
      "63/63 [==============================] - 16s 252ms/step - loss: 0.1106 - accuracy: 0.9850 - val_loss: 0.7584 - val_accuracy: 0.9370\n",
      "Epoch 4/20\n",
      "63/63 [==============================] - 16s 253ms/step - loss: 0.0190 - accuracy: 0.9950 - val_loss: 0.7162 - val_accuracy: 0.9400\n",
      "Epoch 5/20\n",
      "63/63 [==============================] - 16s 253ms/step - loss: 7.1530e-04 - accuracy: 1.0000 - val_loss: 0.7158 - val_accuracy: 0.9380\n",
      "Epoch 6/20\n",
      "63/63 [==============================] - 16s 253ms/step - loss: 1.0405e-04 - accuracy: 1.0000 - val_loss: 0.7154 - val_accuracy: 0.9390\n",
      "Epoch 7/20\n",
      "63/63 [==============================] - 16s 253ms/step - loss: 7.3375e-05 - accuracy: 1.0000 - val_loss: 0.7153 - val_accuracy: 0.9380\n",
      "Epoch 8/20\n",
      "63/63 [==============================] - 16s 253ms/step - loss: 6.2280e-05 - accuracy: 1.0000 - val_loss: 0.7152 - val_accuracy: 0.9380\n",
      "Epoch 9/20\n",
      "63/63 [==============================] - 16s 254ms/step - loss: 5.5129e-05 - accuracy: 1.0000 - val_loss: 0.7151 - val_accuracy: 0.9380\n",
      "Epoch 10/20\n",
      "63/63 [==============================] - 16s 254ms/step - loss: 4.8916e-05 - accuracy: 1.0000 - val_loss: 0.7148 - val_accuracy: 0.9390\n",
      "Epoch 11/20\n",
      "63/63 [==============================] - 16s 255ms/step - loss: 4.4241e-05 - accuracy: 1.0000 - val_loss: 0.7146 - val_accuracy: 0.9400\n",
      "Epoch 12/20\n",
      "63/63 [==============================] - 16s 254ms/step - loss: 4.0504e-05 - accuracy: 1.0000 - val_loss: 0.7145 - val_accuracy: 0.9400\n",
      "Epoch 13/20\n",
      "63/63 [==============================] - 16s 254ms/step - loss: 3.7130e-05 - accuracy: 1.0000 - val_loss: 0.7143 - val_accuracy: 0.9400\n",
      "Epoch 14/20\n",
      "63/63 [==============================] - 16s 256ms/step - loss: 3.4351e-05 - accuracy: 1.0000 - val_loss: 0.7140 - val_accuracy: 0.9400\n",
      "Epoch 15/20\n",
      "63/63 [==============================] - 16s 256ms/step - loss: 3.1842e-05 - accuracy: 1.0000 - val_loss: 0.7138 - val_accuracy: 0.9400\n",
      "Epoch 16/20\n",
      "63/63 [==============================] - 16s 255ms/step - loss: 2.9929e-05 - accuracy: 1.0000 - val_loss: 0.7136 - val_accuracy: 0.9410\n",
      "Epoch 17/20\n",
      "63/63 [==============================] - 16s 260ms/step - loss: 2.7977e-05 - accuracy: 1.0000 - val_loss: 0.7134 - val_accuracy: 0.9410\n",
      "Epoch 18/20\n",
      "63/63 [==============================] - 16s 257ms/step - loss: 2.6215e-05 - accuracy: 1.0000 - val_loss: 0.7133 - val_accuracy: 0.9410\n",
      "Epoch 19/20\n",
      "63/63 [==============================] - 16s 255ms/step - loss: 2.4755e-05 - accuracy: 1.0000 - val_loss: 0.7130 - val_accuracy: 0.9410\n",
      "Epoch 20/20\n",
      "63/63 [==============================] - 16s 255ms/step - loss: 2.3346e-05 - accuracy: 1.0000 - val_loss: 0.7129 - val_accuracy: 0.9410\n"
     ]
    }
   ],
   "source": [
    "history = vgg.fit(train, epochs=20, batch_size=20, validation_data=val)"
   ]
  },
  {
   "cell_type": "code",
   "execution_count": 9,
   "id": "d5b4609f",
   "metadata": {},
   "outputs": [
    {
     "name": "stdout",
     "output_type": "stream",
     "text": [
      "Epoch 1/20\n",
      "63/63 [==============================] - 16s 180ms/step - loss: 9.6573 - accuracy: 0.5670 - val_loss: 5.9422 - val_accuracy: 0.5960\n",
      "Epoch 2/20\n",
      "63/63 [==============================] - 7s 118ms/step - loss: 4.6592 - accuracy: 0.6440 - val_loss: 5.6518 - val_accuracy: 0.6080\n",
      "Epoch 3/20\n",
      "63/63 [==============================] - 7s 118ms/step - loss: 3.8437 - accuracy: 0.6815 - val_loss: 5.6668 - val_accuracy: 0.6030\n",
      "Epoch 4/20\n",
      "63/63 [==============================] - 8s 118ms/step - loss: 2.9619 - accuracy: 0.7270 - val_loss: 6.2659 - val_accuracy: 0.6140\n",
      "Epoch 5/20\n",
      "63/63 [==============================] - 8s 119ms/step - loss: 2.0629 - accuracy: 0.7690 - val_loss: 5.0936 - val_accuracy: 0.6290\n",
      "Epoch 6/20\n",
      "63/63 [==============================] - 8s 118ms/step - loss: 2.7675 - accuracy: 0.7565 - val_loss: 5.7400 - val_accuracy: 0.6160\n",
      "Epoch 7/20\n",
      "63/63 [==============================] - 8s 118ms/step - loss: 1.4003 - accuracy: 0.8220 - val_loss: 5.3904 - val_accuracy: 0.6320\n",
      "Epoch 8/20\n",
      "63/63 [==============================] - 7s 118ms/step - loss: 1.1631 - accuracy: 0.8485 - val_loss: 5.1955 - val_accuracy: 0.6250\n",
      "Epoch 9/20\n",
      "63/63 [==============================] - 7s 118ms/step - loss: 1.0641 - accuracy: 0.8400 - val_loss: 4.7852 - val_accuracy: 0.6470\n",
      "Epoch 10/20\n",
      "63/63 [==============================] - 7s 118ms/step - loss: 0.5055 - accuracy: 0.9085 - val_loss: 4.8419 - val_accuracy: 0.6480\n",
      "Epoch 11/20\n",
      "63/63 [==============================] - 7s 118ms/step - loss: 0.3676 - accuracy: 0.9215 - val_loss: 4.8935 - val_accuracy: 0.6310\n",
      "Epoch 12/20\n",
      "63/63 [==============================] - 8s 118ms/step - loss: 0.2294 - accuracy: 0.9450 - val_loss: 4.9090 - val_accuracy: 0.6400\n",
      "Epoch 13/20\n",
      "63/63 [==============================] - 7s 118ms/step - loss: 0.2783 - accuracy: 0.9370 - val_loss: 5.0121 - val_accuracy: 0.6330\n",
      "Epoch 14/20\n",
      "63/63 [==============================] - 8s 119ms/step - loss: 0.5522 - accuracy: 0.9190 - val_loss: 6.1230 - val_accuracy: 0.6350\n",
      "Epoch 15/20\n",
      "63/63 [==============================] - 7s 118ms/step - loss: 0.5217 - accuracy: 0.9040 - val_loss: 6.9209 - val_accuracy: 0.6140\n",
      "Epoch 16/20\n",
      "63/63 [==============================] - 8s 120ms/step - loss: 0.5224 - accuracy: 0.8980 - val_loss: 8.1896 - val_accuracy: 0.6010\n",
      "Epoch 17/20\n",
      "63/63 [==============================] - 8s 119ms/step - loss: 0.3103 - accuracy: 0.9385 - val_loss: 5.2024 - val_accuracy: 0.6370\n",
      "Epoch 18/20\n",
      "63/63 [==============================] - 8s 119ms/step - loss: 0.4445 - accuracy: 0.9180 - val_loss: 5.6456 - val_accuracy: 0.6440\n",
      "Epoch 19/20\n",
      "63/63 [==============================] - 8s 119ms/step - loss: 0.2903 - accuracy: 0.9495 - val_loss: 5.4571 - val_accuracy: 0.6370\n",
      "Epoch 20/20\n",
      "63/63 [==============================] - 8s 120ms/step - loss: 0.1902 - accuracy: 0.9555 - val_loss: 5.5523 - val_accuracy: 0.6430\n"
     ]
    }
   ],
   "source": [
    "history = googlenet.fit(train, epochs=20, batch_size=20, validation_data=val)"
   ]
  },
  {
   "cell_type": "code",
   "execution_count": 10,
   "id": "7d22079f",
   "metadata": {},
   "outputs": [
    {
     "name": "stdout",
     "output_type": "stream",
     "text": [
      "Epoch 1/20\n",
      "63/63 [==============================] - 18s 218ms/step - loss: 0.2798 - accuracy: 0.9185 - val_loss: 0.1507 - val_accuracy: 0.9610\n",
      "Epoch 2/20\n",
      "63/63 [==============================] - 11s 179ms/step - loss: 0.0110 - accuracy: 0.9960 - val_loss: 0.1023 - val_accuracy: 0.9800\n",
      "Epoch 3/20\n",
      "63/63 [==============================] - 11s 180ms/step - loss: 0.0030 - accuracy: 0.9990 - val_loss: 0.1054 - val_accuracy: 0.9710\n",
      "Epoch 4/20\n",
      "63/63 [==============================] - 11s 181ms/step - loss: 3.4258e-04 - accuracy: 1.0000 - val_loss: 0.1011 - val_accuracy: 0.9740\n",
      "Epoch 5/20\n",
      "63/63 [==============================] - 11s 178ms/step - loss: 2.2066e-04 - accuracy: 1.0000 - val_loss: 0.1011 - val_accuracy: 0.9730\n",
      "Epoch 6/20\n",
      "63/63 [==============================] - 11s 177ms/step - loss: 1.8266e-04 - accuracy: 1.0000 - val_loss: 0.1010 - val_accuracy: 0.9730\n",
      "Epoch 7/20\n",
      "63/63 [==============================] - 11s 178ms/step - loss: 1.5791e-04 - accuracy: 1.0000 - val_loss: 0.1008 - val_accuracy: 0.9730\n",
      "Epoch 8/20\n",
      "63/63 [==============================] - 11s 178ms/step - loss: 1.3921e-04 - accuracy: 1.0000 - val_loss: 0.1007 - val_accuracy: 0.9730\n",
      "Epoch 9/20\n",
      "63/63 [==============================] - 11s 181ms/step - loss: 1.2469e-04 - accuracy: 1.0000 - val_loss: 0.1007 - val_accuracy: 0.9730\n",
      "Epoch 10/20\n",
      "63/63 [==============================] - 11s 181ms/step - loss: 1.1221e-04 - accuracy: 1.0000 - val_loss: 0.1004 - val_accuracy: 0.9730\n",
      "Epoch 11/20\n",
      "63/63 [==============================] - 11s 180ms/step - loss: 1.0205e-04 - accuracy: 1.0000 - val_loss: 0.1004 - val_accuracy: 0.9730\n",
      "Epoch 12/20\n",
      "63/63 [==============================] - 11s 180ms/step - loss: 9.3262e-05 - accuracy: 1.0000 - val_loss: 0.1003 - val_accuracy: 0.9730\n",
      "Epoch 13/20\n",
      "63/63 [==============================] - 11s 181ms/step - loss: 8.5914e-05 - accuracy: 1.0000 - val_loss: 0.1002 - val_accuracy: 0.9740\n",
      "Epoch 14/20\n",
      "63/63 [==============================] - 12s 182ms/step - loss: 7.9249e-05 - accuracy: 1.0000 - val_loss: 0.1001 - val_accuracy: 0.9740\n",
      "Epoch 15/20\n",
      "63/63 [==============================] - 11s 178ms/step - loss: 7.3885e-05 - accuracy: 1.0000 - val_loss: 0.1001 - val_accuracy: 0.9740\n",
      "Epoch 16/20\n",
      "63/63 [==============================] - 11s 177ms/step - loss: 6.8519e-05 - accuracy: 1.0000 - val_loss: 0.1001 - val_accuracy: 0.9740\n",
      "Epoch 17/20\n",
      "63/63 [==============================] - 11s 178ms/step - loss: 6.4093e-05 - accuracy: 1.0000 - val_loss: 0.1000 - val_accuracy: 0.9740\n",
      "Epoch 18/20\n",
      "63/63 [==============================] - 11s 180ms/step - loss: 6.0048e-05 - accuracy: 1.0000 - val_loss: 0.1000 - val_accuracy: 0.9740\n",
      "Epoch 19/20\n",
      "63/63 [==============================] - 11s 177ms/step - loss: 5.6351e-05 - accuracy: 1.0000 - val_loss: 0.0999 - val_accuracy: 0.9750\n",
      "Epoch 20/20\n",
      "63/63 [==============================] - 11s 177ms/step - loss: 5.2955e-05 - accuracy: 1.0000 - val_loss: 0.0999 - val_accuracy: 0.9740\n"
     ]
    }
   ],
   "source": [
    "history = resnet.fit(train, epochs=20, batch_size=20, validation_data=val)"
   ]
  },
  {
   "cell_type": "code",
   "execution_count": 11,
   "id": "7ed0b2f8",
   "metadata": {},
   "outputs": [
    {
     "name": "stdout",
     "output_type": "stream",
     "text": [
      "Epoch 1/20\n",
      "63/63 [==============================] - 14s 162ms/step - loss: 0.0971 - accuracy: 0.9605 - val_loss: 0.0304 - val_accuracy: 0.9880\n",
      "Epoch 2/20\n",
      "63/63 [==============================] - 8s 121ms/step - loss: 0.0054 - accuracy: 0.9985 - val_loss: 0.0287 - val_accuracy: 0.9910\n",
      "Epoch 3/20\n",
      "63/63 [==============================] - 8s 121ms/step - loss: 0.0037 - accuracy: 0.9995 - val_loss: 0.0255 - val_accuracy: 0.9910\n",
      "Epoch 4/20\n",
      "63/63 [==============================] - 8s 123ms/step - loss: 0.0015 - accuracy: 1.0000 - val_loss: 0.0254 - val_accuracy: 0.9910\n",
      "Epoch 5/20\n",
      "63/63 [==============================] - 8s 122ms/step - loss: 0.0018 - accuracy: 0.9995 - val_loss: 0.0237 - val_accuracy: 0.9910\n",
      "Epoch 6/20\n",
      "63/63 [==============================] - 8s 122ms/step - loss: 0.0014 - accuracy: 1.0000 - val_loss: 0.0207 - val_accuracy: 0.9930\n",
      "Epoch 7/20\n",
      "63/63 [==============================] - 8s 122ms/step - loss: 7.6492e-04 - accuracy: 1.0000 - val_loss: 0.0193 - val_accuracy: 0.9950\n",
      "Epoch 8/20\n",
      "63/63 [==============================] - 8s 122ms/step - loss: 0.0014 - accuracy: 1.0000 - val_loss: 0.0200 - val_accuracy: 0.9920\n",
      "Epoch 9/20\n",
      "63/63 [==============================] - 8s 124ms/step - loss: 5.0532e-04 - accuracy: 1.0000 - val_loss: 0.0200 - val_accuracy: 0.9930\n",
      "Epoch 10/20\n",
      "63/63 [==============================] - 8s 122ms/step - loss: 4.2794e-04 - accuracy: 1.0000 - val_loss: 0.0196 - val_accuracy: 0.9940\n",
      "Epoch 11/20\n",
      "63/63 [==============================] - 8s 124ms/step - loss: 0.0020 - accuracy: 0.9990 - val_loss: 0.0230 - val_accuracy: 0.9920\n",
      "Epoch 12/20\n",
      "63/63 [==============================] - 8s 125ms/step - loss: 0.0014 - accuracy: 0.9995 - val_loss: 0.0311 - val_accuracy: 0.9920\n",
      "Epoch 13/20\n",
      "63/63 [==============================] - 8s 125ms/step - loss: 0.0021 - accuracy: 0.9995 - val_loss: 0.0231 - val_accuracy: 0.9930\n",
      "Epoch 14/20\n",
      "63/63 [==============================] - 8s 126ms/step - loss: 7.8517e-04 - accuracy: 1.0000 - val_loss: 0.0247 - val_accuracy: 0.9930\n",
      "Epoch 15/20\n",
      "63/63 [==============================] - 8s 123ms/step - loss: 3.3359e-04 - accuracy: 1.0000 - val_loss: 0.0250 - val_accuracy: 0.9930\n",
      "Epoch 16/20\n",
      "63/63 [==============================] - 8s 123ms/step - loss: 1.7370e-04 - accuracy: 1.0000 - val_loss: 0.0235 - val_accuracy: 0.9930\n",
      "Epoch 17/20\n",
      "63/63 [==============================] - 8s 122ms/step - loss: 2.9152e-04 - accuracy: 1.0000 - val_loss: 0.0244 - val_accuracy: 0.9930\n",
      "Epoch 18/20\n",
      "63/63 [==============================] - 8s 121ms/step - loss: 9.5061e-04 - accuracy: 0.9995 - val_loss: 0.0283 - val_accuracy: 0.9910\n",
      "Epoch 19/20\n",
      "63/63 [==============================] - 8s 120ms/step - loss: 6.6756e-04 - accuracy: 1.0000 - val_loss: 0.0224 - val_accuracy: 0.9930\n",
      "Epoch 20/20\n",
      "63/63 [==============================] - 8s 121ms/step - loss: 1.1829e-04 - accuracy: 1.0000 - val_loss: 0.0227 - val_accuracy: 0.9920\n"
     ]
    }
   ],
   "source": [
    "history = efficientnet.fit(train, epochs=20, batch_size=20, validation_data=val)"
   ]
  },
  {
   "cell_type": "code",
   "execution_count": 12,
   "id": "d471c178",
   "metadata": {},
   "outputs": [
    {
     "name": "stdout",
     "output_type": "stream",
     "text": [
      "Epoch 1/20\n",
      "63/63 [==============================] - 8s 100ms/step - loss: 0.7441 - accuracy: 0.6380 - val_loss: 0.6051 - val_accuracy: 0.6990\n",
      "Epoch 2/20\n",
      "63/63 [==============================] - 5s 77ms/step - loss: 0.4848 - accuracy: 0.7725 - val_loss: 0.6511 - val_accuracy: 0.7020\n",
      "Epoch 3/20\n",
      "63/63 [==============================] - 5s 77ms/step - loss: 0.3268 - accuracy: 0.8590 - val_loss: 0.5891 - val_accuracy: 0.7190\n",
      "Epoch 4/20\n",
      "63/63 [==============================] - 5s 77ms/step - loss: 0.2540 - accuracy: 0.9120 - val_loss: 0.5864 - val_accuracy: 0.7280\n",
      "Epoch 5/20\n",
      "63/63 [==============================] - 5s 75ms/step - loss: 0.1951 - accuracy: 0.9520 - val_loss: 0.6074 - val_accuracy: 0.7160\n",
      "Epoch 6/20\n",
      "63/63 [==============================] - 5s 76ms/step - loss: 0.1627 - accuracy: 0.9640 - val_loss: 0.6124 - val_accuracy: 0.7130\n",
      "Epoch 7/20\n",
      "63/63 [==============================] - 5s 76ms/step - loss: 0.1312 - accuracy: 0.9835 - val_loss: 0.6153 - val_accuracy: 0.7080\n",
      "Epoch 8/20\n",
      "63/63 [==============================] - 5s 76ms/step - loss: 0.1153 - accuracy: 0.9840 - val_loss: 0.6166 - val_accuracy: 0.7250\n",
      "Epoch 9/20\n",
      "63/63 [==============================] - 5s 76ms/step - loss: 0.0919 - accuracy: 0.9945 - val_loss: 0.6209 - val_accuracy: 0.7220\n",
      "Epoch 10/20\n",
      "63/63 [==============================] - 5s 76ms/step - loss: 0.0874 - accuracy: 0.9950 - val_loss: 0.6382 - val_accuracy: 0.7180\n",
      "Epoch 11/20\n",
      "63/63 [==============================] - 5s 76ms/step - loss: 0.0665 - accuracy: 0.9990 - val_loss: 0.6372 - val_accuracy: 0.7220\n",
      "Epoch 12/20\n",
      "63/63 [==============================] - 5s 75ms/step - loss: 0.0624 - accuracy: 0.9995 - val_loss: 0.6552 - val_accuracy: 0.7220\n",
      "Epoch 13/20\n",
      "63/63 [==============================] - 5s 77ms/step - loss: 0.0517 - accuracy: 1.0000 - val_loss: 0.6454 - val_accuracy: 0.7370\n",
      "Epoch 14/20\n",
      "63/63 [==============================] - 5s 77ms/step - loss: 0.0462 - accuracy: 1.0000 - val_loss: 0.6522 - val_accuracy: 0.7370\n",
      "Epoch 15/20\n",
      "63/63 [==============================] - 5s 77ms/step - loss: 0.0420 - accuracy: 1.0000 - val_loss: 0.6564 - val_accuracy: 0.7300\n",
      "Epoch 16/20\n",
      "63/63 [==============================] - 5s 76ms/step - loss: 0.0368 - accuracy: 1.0000 - val_loss: 0.6678 - val_accuracy: 0.7230\n",
      "Epoch 17/20\n",
      "63/63 [==============================] - 5s 81ms/step - loss: 0.0338 - accuracy: 1.0000 - val_loss: 0.6682 - val_accuracy: 0.7370\n",
      "Epoch 18/20\n",
      "63/63 [==============================] - 5s 78ms/step - loss: 0.0310 - accuracy: 1.0000 - val_loss: 0.7017 - val_accuracy: 0.7280\n",
      "Epoch 19/20\n",
      "63/63 [==============================] - 5s 77ms/step - loss: 0.0292 - accuracy: 1.0000 - val_loss: 0.6807 - val_accuracy: 0.7400\n",
      "Epoch 20/20\n",
      "63/63 [==============================] - 5s 76ms/step - loss: 0.0261 - accuracy: 1.0000 - val_loss: 0.6934 - val_accuracy: 0.7290\n"
     ]
    }
   ],
   "source": [
    "history = mobilenet.fit(train, epochs=20, batch_size=20, validation_data=val)"
   ]
  },
  {
   "cell_type": "code",
   "execution_count": 13,
   "id": "c7cebef0",
   "metadata": {},
   "outputs": [
    {
     "name": "stdout",
     "output_type": "stream",
     "text": [
      "Found 2401 files belonging to 2 classes.\n",
      "Found 260 files belonging to 2 classes.\n"
     ]
    }
   ],
   "source": [
    "# Cats & Dogs Dataset\n",
    "\n",
    "train = tf.keras.utils.image_dataset_from_directory('HorseToZebra/train', image_size=((224,224)), label_mode='categorical')\n",
    "val = tf.keras.utils.image_dataset_from_directory('HorseToZebra/validation', image_size=(224,224), label_mode='categorical')"
   ]
  },
  {
   "cell_type": "code",
   "execution_count": 14,
   "id": "e2855a41",
   "metadata": {},
   "outputs": [
    {
     "name": "stdout",
     "output_type": "stream",
     "text": [
      "Epoch 1/20\n",
      "76/76 [==============================] - 16s 211ms/step - loss: 1.9962 - accuracy: 0.9171 - val_loss: 0.7211 - val_accuracy: 0.9692\n",
      "Epoch 2/20\n",
      "76/76 [==============================] - 14s 188ms/step - loss: 0.0816 - accuracy: 0.9879 - val_loss: 0.7309 - val_accuracy: 0.9692\n",
      "Epoch 3/20\n",
      "76/76 [==============================] - 14s 187ms/step - loss: 0.0100 - accuracy: 0.9975 - val_loss: 0.6405 - val_accuracy: 0.9769\n",
      "Epoch 4/20\n",
      "76/76 [==============================] - 14s 188ms/step - loss: 0.0018 - accuracy: 0.9992 - val_loss: 0.6713 - val_accuracy: 0.9692\n",
      "Epoch 5/20\n",
      "76/76 [==============================] - 14s 188ms/step - loss: 1.3430e-04 - accuracy: 1.0000 - val_loss: 0.6816 - val_accuracy: 0.9731\n",
      "Epoch 6/20\n",
      "76/76 [==============================] - 14s 187ms/step - loss: 3.3886e-05 - accuracy: 1.0000 - val_loss: 0.6840 - val_accuracy: 0.9731\n",
      "Epoch 7/20\n",
      "76/76 [==============================] - 14s 187ms/step - loss: 2.8906e-05 - accuracy: 1.0000 - val_loss: 0.6849 - val_accuracy: 0.9731\n",
      "Epoch 8/20\n",
      "76/76 [==============================] - 14s 189ms/step - loss: 2.6023e-05 - accuracy: 1.0000 - val_loss: 0.6857 - val_accuracy: 0.9731\n",
      "Epoch 9/20\n",
      "76/76 [==============================] - 14s 187ms/step - loss: 2.3834e-05 - accuracy: 1.0000 - val_loss: 0.6864 - val_accuracy: 0.9731\n",
      "Epoch 10/20\n",
      "76/76 [==============================] - 14s 187ms/step - loss: 2.2182e-05 - accuracy: 1.0000 - val_loss: 0.6872 - val_accuracy: 0.9731\n",
      "Epoch 11/20\n",
      "76/76 [==============================] - 14s 187ms/step - loss: 2.0672e-05 - accuracy: 1.0000 - val_loss: 0.6876 - val_accuracy: 0.9731\n",
      "Epoch 12/20\n",
      "76/76 [==============================] - 14s 189ms/step - loss: 1.9423e-05 - accuracy: 1.0000 - val_loss: 0.6877 - val_accuracy: 0.9731\n",
      "Epoch 13/20\n",
      "76/76 [==============================] - 14s 186ms/step - loss: 1.8309e-05 - accuracy: 1.0000 - val_loss: 0.6881 - val_accuracy: 0.9731\n",
      "Epoch 14/20\n",
      "76/76 [==============================] - 14s 187ms/step - loss: 1.7311e-05 - accuracy: 1.0000 - val_loss: 0.6885 - val_accuracy: 0.9731\n",
      "Epoch 15/20\n",
      "76/76 [==============================] - 14s 187ms/step - loss: 1.6427e-05 - accuracy: 1.0000 - val_loss: 0.6883 - val_accuracy: 0.9731\n",
      "Epoch 16/20\n",
      "76/76 [==============================] - 14s 187ms/step - loss: 1.5581e-05 - accuracy: 1.0000 - val_loss: 0.6886 - val_accuracy: 0.9731\n",
      "Epoch 17/20\n",
      "76/76 [==============================] - 14s 187ms/step - loss: 1.4783e-05 - accuracy: 1.0000 - val_loss: 0.6889 - val_accuracy: 0.9731\n",
      "Epoch 18/20\n",
      "76/76 [==============================] - 14s 188ms/step - loss: 1.4089e-05 - accuracy: 1.0000 - val_loss: 0.6891 - val_accuracy: 0.9731\n",
      "Epoch 19/20\n",
      "76/76 [==============================] - 14s 187ms/step - loss: 1.3463e-05 - accuracy: 1.0000 - val_loss: 0.6887 - val_accuracy: 0.9731\n",
      "Epoch 20/20\n",
      "76/76 [==============================] - 14s 188ms/step - loss: 1.2830e-05 - accuracy: 1.0000 - val_loss: 0.6893 - val_accuracy: 0.9731\n"
     ]
    }
   ],
   "source": [
    "history = vgg.fit(train, epochs=20, validation_data=val)"
   ]
  },
  {
   "cell_type": "code",
   "execution_count": 15,
   "id": "5b0cd7e0",
   "metadata": {},
   "outputs": [
    {
     "name": "stdout",
     "output_type": "stream",
     "text": [
      "Epoch 1/20\n",
      "76/76 [==============================] - 9s 117ms/step - loss: 6.8078 - accuracy: 0.6985 - val_loss: 15.3834 - val_accuracy: 0.5846\n",
      "Epoch 2/20\n",
      "76/76 [==============================] - 7s 88ms/step - loss: 6.2752 - accuracy: 0.7493 - val_loss: 8.0534 - val_accuracy: 0.6615\n",
      "Epoch 3/20\n",
      "76/76 [==============================] - 7s 89ms/step - loss: 2.2493 - accuracy: 0.8363 - val_loss: 12.2830 - val_accuracy: 0.6615\n",
      "Epoch 4/20\n",
      "76/76 [==============================] - 7s 87ms/step - loss: 4.0885 - accuracy: 0.8213 - val_loss: 3.1770 - val_accuracy: 0.8077\n",
      "Epoch 5/20\n",
      "76/76 [==============================] - 7s 88ms/step - loss: 0.9764 - accuracy: 0.8942 - val_loss: 2.7711 - val_accuracy: 0.7923\n",
      "Epoch 6/20\n",
      "76/76 [==============================] - 7s 89ms/step - loss: 0.9856 - accuracy: 0.8942 - val_loss: 5.4040 - val_accuracy: 0.7962\n",
      "Epoch 7/20\n",
      "76/76 [==============================] - 7s 87ms/step - loss: 4.8667 - accuracy: 0.8292 - val_loss: 3.2321 - val_accuracy: 0.8462\n",
      "Epoch 8/20\n",
      "76/76 [==============================] - 7s 87ms/step - loss: 1.0598 - accuracy: 0.9042 - val_loss: 2.6624 - val_accuracy: 0.8077\n",
      "Epoch 9/20\n",
      "76/76 [==============================] - 7s 88ms/step - loss: 0.5886 - accuracy: 0.9234 - val_loss: 3.3512 - val_accuracy: 0.8077\n",
      "Epoch 10/20\n",
      "76/76 [==============================] - 7s 88ms/step - loss: 0.4355 - accuracy: 0.9446 - val_loss: 3.3693 - val_accuracy: 0.7962\n",
      "Epoch 11/20\n",
      "76/76 [==============================] - 7s 88ms/step - loss: 0.5144 - accuracy: 0.9371 - val_loss: 4.1359 - val_accuracy: 0.7615\n",
      "Epoch 12/20\n",
      "76/76 [==============================] - 7s 88ms/step - loss: 0.3288 - accuracy: 0.9542 - val_loss: 3.6501 - val_accuracy: 0.7885\n",
      "Epoch 13/20\n",
      "76/76 [==============================] - 7s 88ms/step - loss: 0.2830 - accuracy: 0.9488 - val_loss: 4.1386 - val_accuracy: 0.7577\n",
      "Epoch 14/20\n",
      "76/76 [==============================] - 7s 88ms/step - loss: 0.4254 - accuracy: 0.9413 - val_loss: 3.4624 - val_accuracy: 0.7769\n",
      "Epoch 15/20\n",
      "76/76 [==============================] - 7s 88ms/step - loss: 0.3540 - accuracy: 0.9509 - val_loss: 5.4946 - val_accuracy: 0.7615\n",
      "Epoch 16/20\n",
      "76/76 [==============================] - 7s 88ms/step - loss: 0.5486 - accuracy: 0.9388 - val_loss: 3.8518 - val_accuracy: 0.7885\n",
      "Epoch 17/20\n",
      "76/76 [==============================] - 7s 88ms/step - loss: 0.2970 - accuracy: 0.9604 - val_loss: 3.0448 - val_accuracy: 0.8038\n",
      "Epoch 18/20\n",
      "76/76 [==============================] - 7s 87ms/step - loss: 0.0681 - accuracy: 0.9833 - val_loss: 3.0296 - val_accuracy: 0.8077\n",
      "Epoch 19/20\n",
      "76/76 [==============================] - 7s 88ms/step - loss: 0.0587 - accuracy: 0.9879 - val_loss: 2.8869 - val_accuracy: 0.8115\n",
      "Epoch 20/20\n",
      "76/76 [==============================] - 7s 88ms/step - loss: 0.0418 - accuracy: 0.9871 - val_loss: 2.9195 - val_accuracy: 0.8154\n"
     ]
    }
   ],
   "source": [
    "history = googlenet.fit(train, epochs=20, batch_size=20, validation_data=val)"
   ]
  },
  {
   "cell_type": "code",
   "execution_count": 16,
   "id": "d975f450",
   "metadata": {},
   "outputs": [
    {
     "name": "stdout",
     "output_type": "stream",
     "text": [
      "Epoch 1/20\n",
      "76/76 [==============================] - 11s 146ms/step - loss: 0.4099 - accuracy: 0.9463 - val_loss: 0.2078 - val_accuracy: 0.9692\n",
      "Epoch 2/20\n",
      "76/76 [==============================] - 10s 130ms/step - loss: 0.0472 - accuracy: 0.9929 - val_loss: 0.1901 - val_accuracy: 0.9846\n",
      "Epoch 3/20\n",
      "76/76 [==============================] - 10s 131ms/step - loss: 0.0026 - accuracy: 0.9992 - val_loss: 0.1927 - val_accuracy: 0.9846\n",
      "Epoch 4/20\n",
      "76/76 [==============================] - 10s 131ms/step - loss: 3.8441e-04 - accuracy: 0.9996 - val_loss: 0.1714 - val_accuracy: 0.9846\n",
      "Epoch 5/20\n",
      "76/76 [==============================] - 10s 131ms/step - loss: 3.2739e-05 - accuracy: 1.0000 - val_loss: 0.1677 - val_accuracy: 0.9846\n",
      "Epoch 6/20\n",
      "76/76 [==============================] - 10s 131ms/step - loss: 6.9482e-06 - accuracy: 1.0000 - val_loss: 0.1667 - val_accuracy: 0.9808\n",
      "Epoch 7/20\n",
      "76/76 [==============================] - 10s 132ms/step - loss: 5.4287e-06 - accuracy: 1.0000 - val_loss: 0.1662 - val_accuracy: 0.9808\n",
      "Epoch 8/20\n",
      "76/76 [==============================] - 10s 132ms/step - loss: 4.5320e-06 - accuracy: 1.0000 - val_loss: 0.1657 - val_accuracy: 0.9808\n",
      "Epoch 9/20\n",
      "76/76 [==============================] - 10s 131ms/step - loss: 3.9306e-06 - accuracy: 1.0000 - val_loss: 0.1654 - val_accuracy: 0.9808\n",
      "Epoch 10/20\n",
      "76/76 [==============================] - 10s 131ms/step - loss: 3.4557e-06 - accuracy: 1.0000 - val_loss: 0.1651 - val_accuracy: 0.9808\n",
      "Epoch 11/20\n",
      "76/76 [==============================] - 10s 132ms/step - loss: 3.1029e-06 - accuracy: 1.0000 - val_loss: 0.1648 - val_accuracy: 0.9808\n",
      "Epoch 12/20\n",
      "76/76 [==============================] - 10s 131ms/step - loss: 2.8083e-06 - accuracy: 1.0000 - val_loss: 0.1646 - val_accuracy: 0.9808\n",
      "Epoch 13/20\n",
      "76/76 [==============================] - 10s 130ms/step - loss: 2.5817e-06 - accuracy: 1.0000 - val_loss: 0.1643 - val_accuracy: 0.9808\n",
      "Epoch 14/20\n",
      "76/76 [==============================] - 10s 131ms/step - loss: 2.3660e-06 - accuracy: 1.0000 - val_loss: 0.1642 - val_accuracy: 0.9808\n",
      "Epoch 15/20\n",
      "76/76 [==============================] - 10s 131ms/step - loss: 2.1968e-06 - accuracy: 1.0000 - val_loss: 0.1639 - val_accuracy: 0.9808\n",
      "Epoch 16/20\n",
      "76/76 [==============================] - 10s 131ms/step - loss: 2.0472e-06 - accuracy: 1.0000 - val_loss: 0.1638 - val_accuracy: 0.9808\n",
      "Epoch 17/20\n",
      "76/76 [==============================] - 10s 131ms/step - loss: 1.9148e-06 - accuracy: 1.0000 - val_loss: 0.1636 - val_accuracy: 0.9808\n",
      "Epoch 18/20\n",
      "76/76 [==============================] - 10s 130ms/step - loss: 1.8027e-06 - accuracy: 1.0000 - val_loss: 0.1634 - val_accuracy: 0.9808\n",
      "Epoch 19/20\n",
      "76/76 [==============================] - 10s 130ms/step - loss: 1.6947e-06 - accuracy: 1.0000 - val_loss: 0.1633 - val_accuracy: 0.9808\n",
      "Epoch 20/20\n",
      "76/76 [==============================] - 10s 131ms/step - loss: 1.6046e-06 - accuracy: 1.0000 - val_loss: 0.1631 - val_accuracy: 0.9808\n"
     ]
    }
   ],
   "source": [
    "history = resnet.fit(train, epochs=20, batch_size=20, validation_data=val)"
   ]
  },
  {
   "cell_type": "code",
   "execution_count": 17,
   "id": "6eb8258e",
   "metadata": {},
   "outputs": [
    {
     "name": "stdout",
     "output_type": "stream",
     "text": [
      "Epoch 1/20\n",
      "76/76 [==============================] - 8s 100ms/step - loss: 0.1600 - accuracy: 0.9638 - val_loss: 0.0822 - val_accuracy: 0.9885\n",
      "Epoch 2/20\n",
      "76/76 [==============================] - 7s 91ms/step - loss: 0.0163 - accuracy: 0.9971 - val_loss: 0.1267 - val_accuracy: 0.9846\n",
      "Epoch 3/20\n",
      "76/76 [==============================] - 7s 90ms/step - loss: 3.0187e-04 - accuracy: 1.0000 - val_loss: 0.1242 - val_accuracy: 0.9885\n",
      "Epoch 4/20\n",
      "76/76 [==============================] - 7s 90ms/step - loss: 5.3862e-04 - accuracy: 1.0000 - val_loss: 0.1316 - val_accuracy: 0.9885\n",
      "Epoch 5/20\n",
      "76/76 [==============================] - 7s 91ms/step - loss: 0.0017 - accuracy: 0.9992 - val_loss: 0.1236 - val_accuracy: 0.9885\n",
      "Epoch 6/20\n",
      "76/76 [==============================] - 7s 91ms/step - loss: 0.0015 - accuracy: 0.9996 - val_loss: 0.1391 - val_accuracy: 0.9885\n",
      "Epoch 7/20\n",
      "76/76 [==============================] - 7s 91ms/step - loss: 9.2665e-04 - accuracy: 0.9996 - val_loss: 0.1324 - val_accuracy: 0.9885\n",
      "Epoch 8/20\n",
      "76/76 [==============================] - 7s 91ms/step - loss: 6.2785e-04 - accuracy: 0.9996 - val_loss: 0.1386 - val_accuracy: 0.9885\n",
      "Epoch 9/20\n",
      "76/76 [==============================] - 7s 92ms/step - loss: 3.5738e-04 - accuracy: 1.0000 - val_loss: 0.1387 - val_accuracy: 0.9885\n",
      "Epoch 10/20\n",
      "76/76 [==============================] - 7s 90ms/step - loss: 6.5308e-05 - accuracy: 1.0000 - val_loss: 0.1416 - val_accuracy: 0.9885\n",
      "Epoch 11/20\n",
      "76/76 [==============================] - 7s 90ms/step - loss: 6.9244e-05 - accuracy: 1.0000 - val_loss: 0.1434 - val_accuracy: 0.9885\n",
      "Epoch 12/20\n",
      "76/76 [==============================] - 7s 91ms/step - loss: 4.7092e-05 - accuracy: 1.0000 - val_loss: 0.1463 - val_accuracy: 0.9885\n",
      "Epoch 13/20\n",
      "76/76 [==============================] - 7s 91ms/step - loss: 4.0730e-05 - accuracy: 1.0000 - val_loss: 0.1461 - val_accuracy: 0.9885\n",
      "Epoch 14/20\n",
      "76/76 [==============================] - 7s 91ms/step - loss: 8.1547e-05 - accuracy: 1.0000 - val_loss: 0.1441 - val_accuracy: 0.9885\n",
      "Epoch 15/20\n",
      "76/76 [==============================] - 7s 91ms/step - loss: 1.1531e-04 - accuracy: 1.0000 - val_loss: 0.1408 - val_accuracy: 0.9885\n",
      "Epoch 16/20\n",
      "76/76 [==============================] - 7s 91ms/step - loss: 5.6919e-04 - accuracy: 0.9996 - val_loss: 0.1551 - val_accuracy: 0.9885\n",
      "Epoch 17/20\n",
      "76/76 [==============================] - 7s 91ms/step - loss: 9.7104e-05 - accuracy: 1.0000 - val_loss: 0.1533 - val_accuracy: 0.9885\n",
      "Epoch 18/20\n",
      "76/76 [==============================] - 7s 94ms/step - loss: 8.5117e-04 - accuracy: 0.9996 - val_loss: 0.1137 - val_accuracy: 0.9885\n",
      "Epoch 19/20\n",
      "76/76 [==============================] - 7s 94ms/step - loss: 7.3440e-04 - accuracy: 1.0000 - val_loss: 0.1433 - val_accuracy: 0.9885\n",
      "Epoch 20/20\n",
      "76/76 [==============================] - 7s 93ms/step - loss: 5.7807e-05 - accuracy: 1.0000 - val_loss: 0.1446 - val_accuracy: 0.9846\n"
     ]
    }
   ],
   "source": [
    "history = efficientnet.fit(train, epochs=20, batch_size=20, validation_data=val)"
   ]
  },
  {
   "cell_type": "code",
   "execution_count": 18,
   "id": "a0c536ce",
   "metadata": {},
   "outputs": [
    {
     "name": "stdout",
     "output_type": "stream",
     "text": [
      "Epoch 1/20\n",
      "76/76 [==============================] - 5s 67ms/step - loss: 0.9003 - accuracy: 0.7501 - val_loss: 0.6291 - val_accuracy: 0.8385\n",
      "Epoch 2/20\n",
      "76/76 [==============================] - 5s 59ms/step - loss: 0.3175 - accuracy: 0.8900 - val_loss: 0.3766 - val_accuracy: 0.8808\n",
      "Epoch 3/20\n",
      "76/76 [==============================] - 5s 58ms/step - loss: 0.1352 - accuracy: 0.9471 - val_loss: 0.3069 - val_accuracy: 0.8731\n",
      "Epoch 4/20\n",
      "76/76 [==============================] - 5s 59ms/step - loss: 0.0794 - accuracy: 0.9742 - val_loss: 0.2896 - val_accuracy: 0.8769\n",
      "Epoch 5/20\n",
      "76/76 [==============================] - 4s 57ms/step - loss: 0.0523 - accuracy: 0.9900 - val_loss: 0.2804 - val_accuracy: 0.8769\n",
      "Epoch 6/20\n",
      "76/76 [==============================] - 4s 56ms/step - loss: 0.0448 - accuracy: 0.9921 - val_loss: 0.3145 - val_accuracy: 0.9000\n",
      "Epoch 7/20\n",
      "76/76 [==============================] - 4s 56ms/step - loss: 0.0376 - accuracy: 0.9942 - val_loss: 0.2870 - val_accuracy: 0.8962\n",
      "Epoch 8/20\n",
      "76/76 [==============================] - 4s 56ms/step - loss: 0.0255 - accuracy: 0.9992 - val_loss: 0.2704 - val_accuracy: 0.8846\n",
      "Epoch 9/20\n",
      "76/76 [==============================] - 4s 56ms/step - loss: 0.0223 - accuracy: 1.0000 - val_loss: 0.2760 - val_accuracy: 0.8846\n",
      "Epoch 10/20\n",
      "76/76 [==============================] - 4s 56ms/step - loss: 0.0193 - accuracy: 1.0000 - val_loss: 0.2803 - val_accuracy: 0.8923\n",
      "Epoch 11/20\n",
      "76/76 [==============================] - 4s 56ms/step - loss: 0.0170 - accuracy: 1.0000 - val_loss: 0.2806 - val_accuracy: 0.8846\n",
      "Epoch 12/20\n",
      "76/76 [==============================] - 4s 56ms/step - loss: 0.0159 - accuracy: 1.0000 - val_loss: 0.2908 - val_accuracy: 0.8923\n",
      "Epoch 13/20\n",
      "76/76 [==============================] - 5s 59ms/step - loss: 0.0147 - accuracy: 1.0000 - val_loss: 0.2873 - val_accuracy: 0.8846\n",
      "Epoch 14/20\n",
      "76/76 [==============================] - 4s 57ms/step - loss: 0.0127 - accuracy: 1.0000 - val_loss: 0.2845 - val_accuracy: 0.8808\n",
      "Epoch 15/20\n",
      "76/76 [==============================] - 4s 58ms/step - loss: 0.0114 - accuracy: 1.0000 - val_loss: 0.2828 - val_accuracy: 0.8808\n",
      "Epoch 16/20\n",
      "76/76 [==============================] - 5s 58ms/step - loss: 0.0109 - accuracy: 1.0000 - val_loss: 0.2848 - val_accuracy: 0.8846\n",
      "Epoch 17/20\n",
      "76/76 [==============================] - 5s 58ms/step - loss: 0.0097 - accuracy: 1.0000 - val_loss: 0.2852 - val_accuracy: 0.8731\n",
      "Epoch 18/20\n",
      "76/76 [==============================] - 5s 59ms/step - loss: 0.0099 - accuracy: 1.0000 - val_loss: 0.2873 - val_accuracy: 0.8769\n",
      "Epoch 19/20\n",
      "76/76 [==============================] - 5s 59ms/step - loss: 0.0084 - accuracy: 1.0000 - val_loss: 0.2851 - val_accuracy: 0.8769\n",
      "Epoch 20/20\n",
      "76/76 [==============================] - 5s 58ms/step - loss: 0.0080 - accuracy: 1.0000 - val_loss: 0.2889 - val_accuracy: 0.8962\n"
     ]
    }
   ],
   "source": [
    "history = mobilenet.fit(train, epochs=20, batch_size=20, validation_data=val)"
   ]
  }
 ],
 "metadata": {
  "kernelspec": {
   "display_name": "ml",
   "language": "python",
   "name": "python3"
  },
  "language_info": {
   "codemirror_mode": {
    "name": "ipython",
    "version": 3
   },
   "file_extension": ".py",
   "mimetype": "text/x-python",
   "name": "python",
   "nbconvert_exporter": "python",
   "pygments_lexer": "ipython3",
   "version": "3.9.16"
  }
 },
 "nbformat": 4,
 "nbformat_minor": 5
}
