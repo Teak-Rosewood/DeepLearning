{
 "cells": [
  {
   "cell_type": "code",
   "execution_count": 1,
   "id": "ccf2320b-dd56-4d6d-9a3b-9cb37148351d",
   "metadata": {},
   "outputs": [
    {
     "name": "stderr",
     "output_type": "stream",
     "text": [
      "2023-09-03 15:42:21.112345: I tensorflow/core/platform/cpu_feature_guard.cc:182] This TensorFlow binary is optimized to use available CPU instructions in performance-critical operations.\n",
      "To enable the following instructions: AVX2 FMA, in other operations, rebuild TensorFlow with the appropriate compiler flags.\n",
      "2023-09-03 15:42:21.618608: W tensorflow/compiler/tf2tensorrt/utils/py_utils.cc:38] TF-TRT Warning: Could not find TensorRT\n"
     ]
    }
   ],
   "source": [
    "import pandas as pd \n",
    "import numpy as np \n",
    "import tensorflow as tf\n",
    "import matplotlib.pyplot as plt\n",
    "import matplotlib.image as mpimg \n",
    "from tensorflow.keras.preprocessing.image import ImageDataGenerator\n",
    "import tensorflow.keras.layers as tfl\n",
    "import os"
   ]
  },
  {
   "cell_type": "code",
   "execution_count": 3,
   "id": "9c26c3b2-1a23-4826-9198-811837ecc687",
   "metadata": {},
   "outputs": [
    {
     "name": "stdout",
     "output_type": "stream",
     "text": [
      "Model: \"sequential\"\n",
      "_________________________________________________________________\n",
      " Layer (type)                Output Shape              Param #   \n",
      "=================================================================\n",
      " conv2d (Conv2D)             (None, 28, 28, 6)         456       \n",
      "                                                                 \n",
      " average_pooling2d (AverageP  (None, 14, 14, 6)        0         \n",
      " ooling2D)                                                       \n",
      "                                                                 \n",
      " conv2d_1 (Conv2D)           (None, 10, 10, 16)        2416      \n",
      "                                                                 \n",
      " average_pooling2d_1 (Averag  (None, 5, 5, 16)         0         \n",
      " ePooling2D)                                                     \n",
      "                                                                 \n",
      " flatten (Flatten)           (None, 400)               0         \n",
      "                                                                 \n",
      " dense (Dense)               (None, 120)               48120     \n",
      "                                                                 \n",
      " dense_1 (Dense)             (None, 84)                10164     \n",
      "                                                                 \n",
      " dense_2 (Dense)             (None, 10)                850       \n",
      "                                                                 \n",
      " dense_3 (Dense)             (None, 1)                 11        \n",
      "                                                                 \n",
      "=================================================================\n",
      "Total params: 62,017\n",
      "Trainable params: 62,017\n",
      "Non-trainable params: 0\n",
      "_________________________________________________________________\n"
     ]
    }
   ],
   "source": [
    "# LeNet-5\n",
    "\n",
    "lenet = tf.keras.Sequential([\n",
    "    tfl.Conv2D(6, (5, 5), activation='relu', input_shape=(32, 32, 3)),\n",
    "    tfl.AveragePooling2D(pool_size=(2, 2)),\n",
    "    tfl.Conv2D(16, (5,5), activation='relu'),\n",
    "    tfl.AveragePooling2D(pool_size=(2,2)),\n",
    "    tfl.Flatten(),\n",
    "    tfl.Dense(120, activation='relu'),\n",
    "    tfl.Dense(84, activation='relu'),\n",
    "    tfl.Dense(10, activation='relu'),\n",
    "    tfl.Dense(1, activation='sigmoid')\n",
    "])\n",
    "\n",
    "lenet.compile(loss='binary_crossentropy', \n",
    "              optimizer=tf.keras.optimizers.Adam(0.0001),\n",
    "              metrics=['accuracy'])\n",
    "lenet.summary()"
   ]
  },
  {
   "cell_type": "code",
   "execution_count": 6,
   "id": "7d4b5954-45a3-490f-b1c4-df76f96ea3b7",
   "metadata": {},
   "outputs": [
    {
     "name": "stdout",
     "output_type": "stream",
     "text": [
      "Model: \"sequential_1\"\n",
      "_________________________________________________________________\n",
      " Layer (type)                Output Shape              Param #   \n",
      "=================================================================\n",
      " conv2d_2 (Conv2D)           (None, 55, 55, 96)        34944     \n",
      "                                                                 \n",
      " max_pooling2d (MaxPooling2D  (None, 27, 27, 96)       0         \n",
      " )                                                               \n",
      "                                                                 \n",
      " conv2d_3 (Conv2D)           (None, 27, 27, 256)       614656    \n",
      "                                                                 \n",
      " max_pooling2d_1 (MaxPooling  (None, 13, 13, 256)      0         \n",
      " 2D)                                                             \n",
      "                                                                 \n",
      " conv2d_4 (Conv2D)           (None, 13, 13, 384)       885120    \n",
      "                                                                 \n",
      " conv2d_5 (Conv2D)           (None, 13, 13, 384)       1327488   \n",
      "                                                                 \n",
      " conv2d_6 (Conv2D)           (None, 13, 13, 256)       884992    \n",
      "                                                                 \n",
      " max_pooling2d_2 (MaxPooling  (None, 6, 6, 256)        0         \n",
      " 2D)                                                             \n",
      "                                                                 \n",
      " flatten_1 (Flatten)         (None, 9216)              0         \n",
      "                                                                 \n",
      " dense_4 (Dense)             (None, 4096)              37752832  \n",
      "                                                                 \n",
      " dense_5 (Dense)             (None, 4096)              16781312  \n",
      "                                                                 \n",
      " dense_6 (Dense)             (None, 1)                 4097      \n",
      "                                                                 \n",
      "=================================================================\n",
      "Total params: 58,285,441\n",
      "Trainable params: 58,285,441\n",
      "Non-trainable params: 0\n",
      "_________________________________________________________________\n"
     ]
    }
   ],
   "source": [
    "# Alex Net\n",
    "\n",
    "alexnet = tf.keras.Sequential([\n",
    "    tfl.Conv2D(96, (11, 11), activation='relu', strides=(4,4), input_shape=(227, 227, 3)),\n",
    "    tfl.MaxPool2D(pool_size=(3, 3), strides=2),\n",
    "    tfl.Conv2D(256, (5,5), activation='relu', padding='same'),\n",
    "    tfl.MaxPool2D(pool_size=(3,3), strides=2),\n",
    "    tfl.Conv2D(384, (3,3), activation='relu', padding='same'),\n",
    "    tfl.Conv2D(384, (3,3), activation='relu', padding='same'),\n",
    "    tfl.Conv2D(256, (3,3), activation='relu', padding='same'),\n",
    "    tfl.MaxPool2D(pool_size=(3,3), strides=2),\n",
    "    tfl.Flatten(),\n",
    "    tfl.Dense(4096, activation='relu'),\n",
    "    tfl.Dense(4096, activation='relu'),\n",
    "    tfl.Dense(1, activation='sigmoid')\n",
    "])\n",
    "\n",
    "alexnet.compile(loss='binary_crossentropy', \n",
    "              optimizer=tf.keras.optimizers.Adam(0.0001),\n",
    "              metrics=['accuracy'])\n",
    "alexnet.summary()\n"
   ]
  },
  {
   "cell_type": "code",
   "execution_count": 2,
   "id": "220bafc2-92cd-416f-9dbd-1554963d8c3d",
   "metadata": {},
   "outputs": [
    {
     "name": "stdout",
     "output_type": "stream",
     "text": [
      "Found 2000 files belonging to 2 classes.\n",
      "Found 1000 files belonging to 2 classes.\n"
     ]
    },
    {
     "name": "stderr",
     "output_type": "stream",
     "text": [
      "2023-09-03 15:42:23.033217: I tensorflow/compiler/xla/stream_executor/cuda/cuda_gpu_executor.cc:996] successful NUMA node read from SysFS had negative value (-1), but there must be at least one NUMA node, so returning NUMA node zero. See more at https://github.com/torvalds/linux/blob/v6.0/Documentation/ABI/testing/sysfs-bus-pci#L344-L355\n",
      "2023-09-03 15:42:23.051577: I tensorflow/compiler/xla/stream_executor/cuda/cuda_gpu_executor.cc:996] successful NUMA node read from SysFS had negative value (-1), but there must be at least one NUMA node, so returning NUMA node zero. See more at https://github.com/torvalds/linux/blob/v6.0/Documentation/ABI/testing/sysfs-bus-pci#L344-L355\n",
      "2023-09-03 15:42:23.051792: I tensorflow/compiler/xla/stream_executor/cuda/cuda_gpu_executor.cc:996] successful NUMA node read from SysFS had negative value (-1), but there must be at least one NUMA node, so returning NUMA node zero. See more at https://github.com/torvalds/linux/blob/v6.0/Documentation/ABI/testing/sysfs-bus-pci#L344-L355\n",
      "2023-09-03 15:42:23.052360: I tensorflow/compiler/xla/stream_executor/cuda/cuda_gpu_executor.cc:996] successful NUMA node read from SysFS had negative value (-1), but there must be at least one NUMA node, so returning NUMA node zero. See more at https://github.com/torvalds/linux/blob/v6.0/Documentation/ABI/testing/sysfs-bus-pci#L344-L355\n",
      "2023-09-03 15:42:23.052527: I tensorflow/compiler/xla/stream_executor/cuda/cuda_gpu_executor.cc:996] successful NUMA node read from SysFS had negative value (-1), but there must be at least one NUMA node, so returning NUMA node zero. See more at https://github.com/torvalds/linux/blob/v6.0/Documentation/ABI/testing/sysfs-bus-pci#L344-L355\n",
      "2023-09-03 15:42:23.052678: I tensorflow/compiler/xla/stream_executor/cuda/cuda_gpu_executor.cc:996] successful NUMA node read from SysFS had negative value (-1), but there must be at least one NUMA node, so returning NUMA node zero. See more at https://github.com/torvalds/linux/blob/v6.0/Documentation/ABI/testing/sysfs-bus-pci#L344-L355\n",
      "2023-09-03 15:42:23.563039: I tensorflow/compiler/xla/stream_executor/cuda/cuda_gpu_executor.cc:996] successful NUMA node read from SysFS had negative value (-1), but there must be at least one NUMA node, so returning NUMA node zero. See more at https://github.com/torvalds/linux/blob/v6.0/Documentation/ABI/testing/sysfs-bus-pci#L344-L355\n",
      "2023-09-03 15:42:23.563236: I tensorflow/compiler/xla/stream_executor/cuda/cuda_gpu_executor.cc:996] successful NUMA node read from SysFS had negative value (-1), but there must be at least one NUMA node, so returning NUMA node zero. See more at https://github.com/torvalds/linux/blob/v6.0/Documentation/ABI/testing/sysfs-bus-pci#L344-L355\n",
      "2023-09-03 15:42:23.563386: I tensorflow/compiler/xla/stream_executor/cuda/cuda_gpu_executor.cc:996] successful NUMA node read from SysFS had negative value (-1), but there must be at least one NUMA node, so returning NUMA node zero. See more at https://github.com/torvalds/linux/blob/v6.0/Documentation/ABI/testing/sysfs-bus-pci#L344-L355\n",
      "2023-09-03 15:42:23.563512: I tensorflow/core/common_runtime/gpu/gpu_device.cc:1635] Created device /job:localhost/replica:0/task:0/device:GPU:0 with 2559 MB memory:  -> device: 0, name: NVIDIA GeForce GTX 1650 SUPER, pci bus id: 0000:29:00.0, compute capability: 7.5\n"
     ]
    }
   ],
   "source": [
    "# Cats and Dogs Dataset \n",
    "\n",
    "train = tf.keras.utils.image_dataset_from_directory('CatsDogs/train', image_size=((32,32)))\n",
    "val = tf.keras.utils.image_dataset_from_directory('CatsDogs/validation', image_size=(32,32))"
   ]
  },
  {
   "cell_type": "code",
   "execution_count": 4,
   "id": "56fcc9b0-489b-46ce-b52b-51a2b9a4196f",
   "metadata": {},
   "outputs": [
    {
     "name": "stdout",
     "output_type": "stream",
     "text": [
      "Epoch 1/20\n"
     ]
    },
    {
     "name": "stderr",
     "output_type": "stream",
     "text": [
      "2023-09-03 15:42:24.379383: I tensorflow/core/common_runtime/executor.cc:1197] [/device:CPU:0] (DEBUG INFO) Executor start aborting (this does not indicate an error and you can ignore this message): INVALID_ARGUMENT: You must feed a value for placeholder tensor 'Placeholder/_4' with dtype int32 and shape [2000]\n",
      "\t [[{{node Placeholder/_4}}]]\n",
      "2023-09-03 15:42:24.379633: I tensorflow/core/common_runtime/executor.cc:1197] [/device:CPU:0] (DEBUG INFO) Executor start aborting (this does not indicate an error and you can ignore this message): INVALID_ARGUMENT: You must feed a value for placeholder tensor 'Placeholder/_4' with dtype int32 and shape [2000]\n",
      "\t [[{{node Placeholder/_4}}]]\n",
      "2023-09-03 15:42:25.858372: I tensorflow/compiler/xla/stream_executor/cuda/cuda_dnn.cc:424] Loaded cuDNN version 8904\n",
      "2023-09-03 15:42:26.879167: I tensorflow/compiler/xla/service/service.cc:169] XLA service 0x7f1812887df0 initialized for platform CUDA (this does not guarantee that XLA will be used). Devices:\n",
      "2023-09-03 15:42:26.879194: I tensorflow/compiler/xla/service/service.cc:177]   StreamExecutor device (0): NVIDIA GeForce GTX 1650 SUPER, Compute Capability 7.5\n",
      "2023-09-03 15:42:26.882481: I tensorflow/compiler/mlir/tensorflow/utils/dump_mlir_util.cc:269] disabling MLIR crash reproducer, set env var `MLIR_CRASH_REPRODUCER_DIRECTORY` to enable.\n",
      "2023-09-03 15:42:27.073910: I ./tensorflow/compiler/jit/device_compiler.h:180] Compiled cluster using XLA!  This line is logged at most once for the lifetime of the process.\n"
     ]
    },
    {
     "name": "stdout",
     "output_type": "stream",
     "text": [
      "63/63 [==============================] - ETA: 0s - loss: 2.8410 - accuracy: 0.5090"
     ]
    },
    {
     "name": "stderr",
     "output_type": "stream",
     "text": [
      "2023-09-03 15:42:28.889398: I tensorflow/core/common_runtime/executor.cc:1197] [/device:CPU:0] (DEBUG INFO) Executor start aborting (this does not indicate an error and you can ignore this message): INVALID_ARGUMENT: You must feed a value for placeholder tensor 'Placeholder/_4' with dtype int32 and shape [1000]\n",
      "\t [[{{node Placeholder/_4}}]]\n",
      "2023-09-03 15:42:28.889657: I tensorflow/core/common_runtime/executor.cc:1197] [/device:CPU:0] (DEBUG INFO) Executor start aborting (this does not indicate an error and you can ignore this message): INVALID_ARGUMENT: You must feed a value for placeholder tensor 'Placeholder/_4' with dtype int32 and shape [1000]\n",
      "\t [[{{node Placeholder/_4}}]]\n"
     ]
    },
    {
     "name": "stdout",
     "output_type": "stream",
     "text": [
      "63/63 [==============================] - 5s 10ms/step - loss: 2.8410 - accuracy: 0.5090 - val_loss: 1.9690 - val_accuracy: 0.4960\n",
      "Epoch 2/20\n",
      "63/63 [==============================] - 0s 6ms/step - loss: 1.5441 - accuracy: 0.5360 - val_loss: 1.4632 - val_accuracy: 0.5330\n",
      "Epoch 3/20\n",
      "63/63 [==============================] - 1s 8ms/step - loss: 1.1469 - accuracy: 0.5590 - val_loss: 1.1885 - val_accuracy: 0.5560\n",
      "Epoch 4/20\n",
      "63/63 [==============================] - 0s 6ms/step - loss: 0.9539 - accuracy: 0.5810 - val_loss: 1.1163 - val_accuracy: 0.5720\n",
      "Epoch 5/20\n",
      "63/63 [==============================] - 0s 6ms/step - loss: 0.8555 - accuracy: 0.5965 - val_loss: 1.0057 - val_accuracy: 0.5600\n",
      "Epoch 6/20\n",
      "63/63 [==============================] - 0s 6ms/step - loss: 0.7940 - accuracy: 0.6045 - val_loss: 0.9463 - val_accuracy: 0.5630\n",
      "Epoch 7/20\n",
      "63/63 [==============================] - 0s 7ms/step - loss: 0.7585 - accuracy: 0.6065 - val_loss: 0.9471 - val_accuracy: 0.5530\n",
      "Epoch 8/20\n",
      "63/63 [==============================] - 0s 6ms/step - loss: 0.7050 - accuracy: 0.6310 - val_loss: 0.8723 - val_accuracy: 0.5760\n",
      "Epoch 9/20\n",
      "63/63 [==============================] - 0s 7ms/step - loss: 0.6680 - accuracy: 0.6540 - val_loss: 0.8413 - val_accuracy: 0.5990\n",
      "Epoch 10/20\n",
      "63/63 [==============================] - 0s 7ms/step - loss: 0.6361 - accuracy: 0.6645 - val_loss: 0.8281 - val_accuracy: 0.5890\n",
      "Epoch 11/20\n",
      "63/63 [==============================] - 0s 7ms/step - loss: 0.6137 - accuracy: 0.6790 - val_loss: 0.8515 - val_accuracy: 0.5810\n",
      "Epoch 12/20\n",
      "63/63 [==============================] - 1s 8ms/step - loss: 0.6182 - accuracy: 0.6760 - val_loss: 0.8127 - val_accuracy: 0.6050\n",
      "Epoch 13/20\n",
      "63/63 [==============================] - 0s 6ms/step - loss: 0.5919 - accuracy: 0.6975 - val_loss: 0.9227 - val_accuracy: 0.5790\n",
      "Epoch 14/20\n",
      "63/63 [==============================] - 0s 7ms/step - loss: 0.5749 - accuracy: 0.7105 - val_loss: 0.7776 - val_accuracy: 0.6140\n",
      "Epoch 15/20\n",
      "63/63 [==============================] - 0s 6ms/step - loss: 0.5453 - accuracy: 0.7215 - val_loss: 0.7810 - val_accuracy: 0.6030\n",
      "Epoch 16/20\n",
      "63/63 [==============================] - 0s 7ms/step - loss: 0.5312 - accuracy: 0.7285 - val_loss: 0.7722 - val_accuracy: 0.6300\n",
      "Epoch 17/20\n",
      "63/63 [==============================] - 1s 7ms/step - loss: 0.5214 - accuracy: 0.7450 - val_loss: 0.8696 - val_accuracy: 0.5900\n",
      "Epoch 18/20\n",
      "63/63 [==============================] - 0s 7ms/step - loss: 0.5089 - accuracy: 0.7425 - val_loss: 0.8223 - val_accuracy: 0.6020\n",
      "Epoch 19/20\n",
      "63/63 [==============================] - 0s 6ms/step - loss: 0.4916 - accuracy: 0.7685 - val_loss: 0.7845 - val_accuracy: 0.6250\n",
      "Epoch 20/20\n",
      "63/63 [==============================] - 0s 7ms/step - loss: 0.4766 - accuracy: 0.7720 - val_loss: 0.7929 - val_accuracy: 0.6320\n"
     ]
    }
   ],
   "source": [
    "#LeNet \n",
    "\n",
    "history = lenet.fit(train, epochs=20, batch_size=20, validation_data=val)"
   ]
  },
  {
   "cell_type": "code",
   "execution_count": 5,
   "id": "989a64ee-d3fd-4c7e-a6b9-9f1e0665cceb",
   "metadata": {},
   "outputs": [
    {
     "name": "stdout",
     "output_type": "stream",
     "text": [
      "Found 2000 files belonging to 2 classes.\n",
      "Found 1000 files belonging to 2 classes.\n"
     ]
    }
   ],
   "source": [
    "train = tf.keras.utils.image_dataset_from_directory('CatsDogs/train', image_size=((227,227)))\n",
    "val = tf.keras.utils.image_dataset_from_directory('CatsDogs/validation', image_size=(227,227))"
   ]
  },
  {
   "cell_type": "code",
   "execution_count": 7,
   "id": "4f059b32-7715-4a92-8c72-62c54b8019e6",
   "metadata": {},
   "outputs": [
    {
     "name": "stdout",
     "output_type": "stream",
     "text": [
      "Epoch 1/20\n"
     ]
    },
    {
     "name": "stderr",
     "output_type": "stream",
     "text": [
      "2023-09-03 15:42:45.091674: I tensorflow/core/common_runtime/executor.cc:1197] [/device:CPU:0] (DEBUG INFO) Executor start aborting (this does not indicate an error and you can ignore this message): INVALID_ARGUMENT: You must feed a value for placeholder tensor 'Placeholder/_4' with dtype int32 and shape [2000]\n",
      "\t [[{{node Placeholder/_4}}]]\n",
      "2023-09-03 15:42:45.091919: I tensorflow/core/common_runtime/executor.cc:1197] [/device:CPU:0] (DEBUG INFO) Executor start aborting (this does not indicate an error and you can ignore this message): INVALID_ARGUMENT: You must feed a value for placeholder tensor 'Placeholder/_4' with dtype int32 and shape [2000]\n",
      "\t [[{{node Placeholder/_4}}]]\n"
     ]
    },
    {
     "name": "stdout",
     "output_type": "stream",
     "text": [
      "63/63 [==============================] - ETA: 0s - loss: 3.5750 - accuracy: 0.5140"
     ]
    },
    {
     "name": "stderr",
     "output_type": "stream",
     "text": [
      "2023-09-03 15:42:53.337776: I tensorflow/core/common_runtime/executor.cc:1197] [/device:CPU:0] (DEBUG INFO) Executor start aborting (this does not indicate an error and you can ignore this message): INVALID_ARGUMENT: You must feed a value for placeholder tensor 'Placeholder/_4' with dtype int32 and shape [1000]\n",
      "\t [[{{node Placeholder/_4}}]]\n",
      "2023-09-03 15:42:53.338026: I tensorflow/core/common_runtime/executor.cc:1197] [/device:CPU:0] (DEBUG INFO) Executor start aborting (this does not indicate an error and you can ignore this message): INVALID_ARGUMENT: You must feed a value for placeholder tensor 'Placeholder/_4' with dtype int32 and shape [1000]\n",
      "\t [[{{node Placeholder/_4}}]]\n"
     ]
    },
    {
     "name": "stdout",
     "output_type": "stream",
     "text": [
      "63/63 [==============================] - 9s 89ms/step - loss: 3.5750 - accuracy: 0.5140 - val_loss: 0.7243 - val_accuracy: 0.5000\n",
      "Epoch 2/20\n",
      "63/63 [==============================] - 4s 70ms/step - loss: 0.6633 - accuracy: 0.5900 - val_loss: 0.6521 - val_accuracy: 0.5760\n",
      "Epoch 3/20\n",
      "63/63 [==============================] - 5s 70ms/step - loss: 0.6158 - accuracy: 0.6575 - val_loss: 0.6257 - val_accuracy: 0.6370\n",
      "Epoch 4/20\n",
      "63/63 [==============================] - 4s 70ms/step - loss: 0.5776 - accuracy: 0.6890 - val_loss: 0.6113 - val_accuracy: 0.6580\n",
      "Epoch 5/20\n",
      "63/63 [==============================] - 4s 70ms/step - loss: 0.5186 - accuracy: 0.7330 - val_loss: 0.6599 - val_accuracy: 0.6330\n",
      "Epoch 6/20\n",
      "63/63 [==============================] - 4s 70ms/step - loss: 0.4834 - accuracy: 0.7640 - val_loss: 0.5794 - val_accuracy: 0.7050\n",
      "Epoch 7/20\n",
      "63/63 [==============================] - 5s 71ms/step - loss: 0.4147 - accuracy: 0.8105 - val_loss: 0.7345 - val_accuracy: 0.6570\n",
      "Epoch 8/20\n",
      "63/63 [==============================] - 4s 70ms/step - loss: 0.3998 - accuracy: 0.8160 - val_loss: 0.6107 - val_accuracy: 0.7200\n",
      "Epoch 9/20\n",
      "63/63 [==============================] - 4s 70ms/step - loss: 0.3444 - accuracy: 0.8400 - val_loss: 0.6304 - val_accuracy: 0.7250\n",
      "Epoch 10/20\n",
      "63/63 [==============================] - 4s 70ms/step - loss: 0.2769 - accuracy: 0.8745 - val_loss: 0.6805 - val_accuracy: 0.7280\n",
      "Epoch 11/20\n",
      "63/63 [==============================] - 5s 71ms/step - loss: 0.2376 - accuracy: 0.9010 - val_loss: 0.7520 - val_accuracy: 0.7150\n",
      "Epoch 12/20\n",
      "63/63 [==============================] - 5s 71ms/step - loss: 0.3409 - accuracy: 0.8415 - val_loss: 0.6335 - val_accuracy: 0.7190\n",
      "Epoch 13/20\n",
      "63/63 [==============================] - 5s 71ms/step - loss: 0.1688 - accuracy: 0.9325 - val_loss: 0.8002 - val_accuracy: 0.7310\n",
      "Epoch 14/20\n",
      "63/63 [==============================] - 4s 71ms/step - loss: 0.1473 - accuracy: 0.9375 - val_loss: 0.9421 - val_accuracy: 0.7410\n",
      "Epoch 15/20\n",
      "63/63 [==============================] - 4s 70ms/step - loss: 0.1551 - accuracy: 0.9380 - val_loss: 1.0676 - val_accuracy: 0.6990\n",
      "Epoch 16/20\n",
      "63/63 [==============================] - 5s 71ms/step - loss: 0.1553 - accuracy: 0.9400 - val_loss: 0.9496 - val_accuracy: 0.7420\n",
      "Epoch 17/20\n",
      "63/63 [==============================] - 5s 71ms/step - loss: 0.1283 - accuracy: 0.9480 - val_loss: 0.8414 - val_accuracy: 0.7320\n",
      "Epoch 18/20\n",
      "63/63 [==============================] - 5s 71ms/step - loss: 0.0874 - accuracy: 0.9655 - val_loss: 1.1072 - val_accuracy: 0.7310\n",
      "Epoch 19/20\n",
      "63/63 [==============================] - 5s 71ms/step - loss: 0.1043 - accuracy: 0.9590 - val_loss: 1.1647 - val_accuracy: 0.7130\n",
      "Epoch 20/20\n",
      "63/63 [==============================] - 5s 72ms/step - loss: 0.0938 - accuracy: 0.9655 - val_loss: 1.2059 - val_accuracy: 0.7200\n"
     ]
    }
   ],
   "source": [
    "# Alexnet\n",
    "history = alexnet.fit(train, epochs=20, batch_size=20, validation_data=val)"
   ]
  },
  {
   "cell_type": "code",
   "execution_count": 8,
   "id": "39c26c8a-1258-46a4-99a4-bc26b838af65",
   "metadata": {},
   "outputs": [
    {
     "name": "stdout",
     "output_type": "stream",
     "text": [
      "Found 2401 files belonging to 2 classes.\n",
      "Found 260 files belonging to 2 classes.\n"
     ]
    }
   ],
   "source": [
    "# Horse2Zebra Data Set\n",
    "\n",
    "train = tf.keras.utils.image_dataset_from_directory('HorseToZebra/train', image_size=((32,32)))\n",
    "val = tf.keras.utils.image_dataset_from_directory('HorseToZebra/validation', image_size=(32,32))"
   ]
  },
  {
   "cell_type": "code",
   "execution_count": 9,
   "id": "49dad687",
   "metadata": {},
   "outputs": [
    {
     "name": "stdout",
     "output_type": "stream",
     "text": [
      "Epoch 1/20\n",
      "23/76 [========>.....................] - ETA: 0s - loss: 0.7834 - accuracy: 0.6060"
     ]
    },
    {
     "name": "stderr",
     "output_type": "stream",
     "text": [
      "2023-09-03 15:49:37.671791: I tensorflow/core/common_runtime/executor.cc:1197] [/device:CPU:0] (DEBUG INFO) Executor start aborting (this does not indicate an error and you can ignore this message): INVALID_ARGUMENT: You must feed a value for placeholder tensor 'Placeholder/_4' with dtype int32 and shape [2401]\n",
      "\t [[{{node Placeholder/_4}}]]\n",
      "2023-09-03 15:49:37.672050: I tensorflow/core/common_runtime/executor.cc:1197] [/device:CPU:0] (DEBUG INFO) Executor start aborting (this does not indicate an error and you can ignore this message): INVALID_ARGUMENT: You must feed a value for placeholder tensor 'Placeholder/_4' with dtype int32 and shape [2401]\n",
      "\t [[{{node Placeholder/_4}}]]\n"
     ]
    },
    {
     "name": "stdout",
     "output_type": "stream",
     "text": [
      "76/76 [==============================] - 1s 7ms/step - loss: 0.7122 - accuracy: 0.6493 - val_loss: 0.6625 - val_accuracy: 0.6538\n",
      "Epoch 2/20\n",
      " 1/76 [..............................] - ETA: 4s - loss: 0.4133 - accuracy: 0.8750"
     ]
    },
    {
     "name": "stderr",
     "output_type": "stream",
     "text": [
      "2023-09-03 15:49:38.159157: I tensorflow/core/common_runtime/executor.cc:1197] [/device:CPU:0] (DEBUG INFO) Executor start aborting (this does not indicate an error and you can ignore this message): INVALID_ARGUMENT: You must feed a value for placeholder tensor 'Placeholder/_4' with dtype int32 and shape [260]\n",
      "\t [[{{node Placeholder/_4}}]]\n",
      "2023-09-03 15:49:38.159424: I tensorflow/core/common_runtime/executor.cc:1197] [/device:CPU:0] (DEBUG INFO) Executor start aborting (this does not indicate an error and you can ignore this message): INVALID_ARGUMENT: You must feed a value for placeholder tensor 'Placeholder/_0' with dtype string and shape [260]\n",
      "\t [[{{node Placeholder/_0}}]]\n"
     ]
    },
    {
     "name": "stdout",
     "output_type": "stream",
     "text": [
      "76/76 [==============================] - 0s 6ms/step - loss: 0.6195 - accuracy: 0.7014 - val_loss: 0.6166 - val_accuracy: 0.6692\n",
      "Epoch 3/20\n",
      "76/76 [==============================] - 1s 6ms/step - loss: 0.5509 - accuracy: 0.7214 - val_loss: 0.5402 - val_accuracy: 0.7077\n",
      "Epoch 4/20\n",
      "76/76 [==============================] - 0s 5ms/step - loss: 0.5044 - accuracy: 0.7501 - val_loss: 0.5745 - val_accuracy: 0.7154\n",
      "Epoch 5/20\n",
      "76/76 [==============================] - 0s 5ms/step - loss: 0.4783 - accuracy: 0.7672 - val_loss: 0.4969 - val_accuracy: 0.7846\n",
      "Epoch 6/20\n",
      "76/76 [==============================] - 0s 5ms/step - loss: 0.4426 - accuracy: 0.7934 - val_loss: 0.4852 - val_accuracy: 0.7808\n",
      "Epoch 7/20\n",
      "76/76 [==============================] - 0s 5ms/step - loss: 0.4302 - accuracy: 0.7984 - val_loss: 0.5222 - val_accuracy: 0.7615\n",
      "Epoch 8/20\n",
      "76/76 [==============================] - 0s 6ms/step - loss: 0.4088 - accuracy: 0.7968 - val_loss: 0.4741 - val_accuracy: 0.7962\n",
      "Epoch 9/20\n",
      "76/76 [==============================] - 0s 6ms/step - loss: 0.3950 - accuracy: 0.8080 - val_loss: 0.4768 - val_accuracy: 0.7808\n",
      "Epoch 10/20\n",
      "76/76 [==============================] - 0s 5ms/step - loss: 0.3910 - accuracy: 0.8122 - val_loss: 0.4792 - val_accuracy: 0.7885\n",
      "Epoch 11/20\n",
      "76/76 [==============================] - 0s 6ms/step - loss: 0.3639 - accuracy: 0.8259 - val_loss: 0.4878 - val_accuracy: 0.7923\n",
      "Epoch 12/20\n",
      "76/76 [==============================] - 0s 5ms/step - loss: 0.3534 - accuracy: 0.8372 - val_loss: 0.5078 - val_accuracy: 0.7962\n",
      "Epoch 13/20\n",
      "76/76 [==============================] - 0s 5ms/step - loss: 0.3574 - accuracy: 0.8363 - val_loss: 0.5276 - val_accuracy: 0.8000\n",
      "Epoch 14/20\n",
      "76/76 [==============================] - 1s 6ms/step - loss: 0.3398 - accuracy: 0.8446 - val_loss: 0.4957 - val_accuracy: 0.8077\n",
      "Epoch 15/20\n",
      "76/76 [==============================] - 0s 5ms/step - loss: 0.3283 - accuracy: 0.8551 - val_loss: 0.4794 - val_accuracy: 0.8154\n",
      "Epoch 16/20\n",
      "76/76 [==============================] - 0s 5ms/step - loss: 0.3220 - accuracy: 0.8580 - val_loss: 0.4957 - val_accuracy: 0.8115\n",
      "Epoch 17/20\n",
      "76/76 [==============================] - 0s 6ms/step - loss: 0.3039 - accuracy: 0.8709 - val_loss: 0.4896 - val_accuracy: 0.8154\n",
      "Epoch 18/20\n",
      "76/76 [==============================] - 0s 5ms/step - loss: 0.3051 - accuracy: 0.8659 - val_loss: 0.4815 - val_accuracy: 0.7962\n",
      "Epoch 19/20\n",
      "76/76 [==============================] - 0s 5ms/step - loss: 0.3109 - accuracy: 0.8621 - val_loss: 0.5430 - val_accuracy: 0.7731\n",
      "Epoch 20/20\n",
      "76/76 [==============================] - 0s 5ms/step - loss: 0.3116 - accuracy: 0.8609 - val_loss: 0.5445 - val_accuracy: 0.7846\n"
     ]
    }
   ],
   "source": [
    "# LeNet\n",
    "\n",
    "history = lenet.fit(train, epochs=20, batch_size=20, validation_data=val)"
   ]
  },
  {
   "cell_type": "code",
   "execution_count": 10,
   "id": "3d5855f7",
   "metadata": {},
   "outputs": [
    {
     "name": "stdout",
     "output_type": "stream",
     "text": [
      "Found 2401 files belonging to 2 classes.\n",
      "Found 260 files belonging to 2 classes.\n"
     ]
    }
   ],
   "source": [
    "train = tf.keras.utils.image_dataset_from_directory('HorseToZebra/train', image_size=((227,227)))\n",
    "val = tf.keras.utils.image_dataset_from_directory('HorseToZebra/validation', image_size=(227,227))"
   ]
  },
  {
   "cell_type": "code",
   "execution_count": 11,
   "id": "d4e5ad30",
   "metadata": {},
   "outputs": [
    {
     "name": "stdout",
     "output_type": "stream",
     "text": [
      "Epoch 1/20\n",
      " 1/76 [..............................] - ETA: 9s - loss: 2.5121 - accuracy: 0.7188"
     ]
    },
    {
     "name": "stderr",
     "output_type": "stream",
     "text": [
      "2023-09-03 15:51:37.378503: I tensorflow/core/common_runtime/executor.cc:1197] [/device:CPU:0] (DEBUG INFO) Executor start aborting (this does not indicate an error and you can ignore this message): INVALID_ARGUMENT: You must feed a value for placeholder tensor 'Placeholder/_4' with dtype int32 and shape [2401]\n",
      "\t [[{{node Placeholder/_4}}]]\n",
      "2023-09-03 15:51:37.378758: I tensorflow/core/common_runtime/executor.cc:1197] [/device:CPU:0] (DEBUG INFO) Executor start aborting (this does not indicate an error and you can ignore this message): INVALID_ARGUMENT: You must feed a value for placeholder tensor 'Placeholder/_4' with dtype int32 and shape [2401]\n",
      "\t [[{{node Placeholder/_4}}]]\n"
     ]
    },
    {
     "name": "stdout",
     "output_type": "stream",
     "text": [
      "76/76 [==============================] - ETA: 0s - loss: 0.4987 - accuracy: 0.8130"
     ]
    },
    {
     "name": "stderr",
     "output_type": "stream",
     "text": [
      "2023-09-03 15:51:42.269555: I tensorflow/core/common_runtime/executor.cc:1197] [/device:CPU:0] (DEBUG INFO) Executor start aborting (this does not indicate an error and you can ignore this message): INVALID_ARGUMENT: You must feed a value for placeholder tensor 'Placeholder/_4' with dtype int32 and shape [260]\n",
      "\t [[{{node Placeholder/_4}}]]\n",
      "2023-09-03 15:51:42.269808: I tensorflow/core/common_runtime/executor.cc:1197] [/device:CPU:0] (DEBUG INFO) Executor start aborting (this does not indicate an error and you can ignore this message): INVALID_ARGUMENT: You must feed a value for placeholder tensor 'Placeholder/_4' with dtype int32 and shape [260]\n",
      "\t [[{{node Placeholder/_4}}]]\n"
     ]
    },
    {
     "name": "stdout",
     "output_type": "stream",
     "text": [
      "76/76 [==============================] - 5s 69ms/step - loss: 0.4987 - accuracy: 0.8130 - val_loss: 0.3448 - val_accuracy: 0.8308\n",
      "Epoch 2/20\n",
      "76/76 [==============================] - 5s 61ms/step - loss: 0.2579 - accuracy: 0.8892 - val_loss: 0.1922 - val_accuracy: 0.9269\n",
      "Epoch 3/20\n",
      "76/76 [==============================] - 5s 61ms/step - loss: 0.1829 - accuracy: 0.9192 - val_loss: 0.1436 - val_accuracy: 0.9346\n",
      "Epoch 4/20\n",
      "76/76 [==============================] - 5s 61ms/step - loss: 0.1437 - accuracy: 0.9459 - val_loss: 0.1719 - val_accuracy: 0.9192\n",
      "Epoch 5/20\n",
      "76/76 [==============================] - 5s 61ms/step - loss: 0.1579 - accuracy: 0.9292 - val_loss: 0.1367 - val_accuracy: 0.9346\n",
      "Epoch 6/20\n",
      "76/76 [==============================] - 5s 61ms/step - loss: 0.0998 - accuracy: 0.9629 - val_loss: 0.1692 - val_accuracy: 0.9346\n",
      "Epoch 7/20\n",
      "76/76 [==============================] - 5s 61ms/step - loss: 0.0770 - accuracy: 0.9700 - val_loss: 0.1275 - val_accuracy: 0.9462\n",
      "Epoch 8/20\n",
      "76/76 [==============================] - 5s 61ms/step - loss: 0.1133 - accuracy: 0.9534 - val_loss: 0.1190 - val_accuracy: 0.9500\n",
      "Epoch 9/20\n",
      "76/76 [==============================] - 5s 61ms/step - loss: 0.0527 - accuracy: 0.9796 - val_loss: 0.1867 - val_accuracy: 0.9462\n",
      "Epoch 10/20\n",
      "76/76 [==============================] - 5s 61ms/step - loss: 0.0436 - accuracy: 0.9829 - val_loss: 0.7678 - val_accuracy: 0.8615\n",
      "Epoch 11/20\n",
      "76/76 [==============================] - 5s 61ms/step - loss: 0.0798 - accuracy: 0.9713 - val_loss: 0.2282 - val_accuracy: 0.9269\n",
      "Epoch 12/20\n",
      "76/76 [==============================] - 5s 61ms/step - loss: 0.0557 - accuracy: 0.9783 - val_loss: 0.1221 - val_accuracy: 0.9692\n",
      "Epoch 13/20\n",
      "76/76 [==============================] - 5s 61ms/step - loss: 0.0239 - accuracy: 0.9904 - val_loss: 0.2515 - val_accuracy: 0.9154\n",
      "Epoch 14/20\n",
      "76/76 [==============================] - 5s 61ms/step - loss: 0.0328 - accuracy: 0.9875 - val_loss: 0.2646 - val_accuracy: 0.9154\n",
      "Epoch 15/20\n",
      "76/76 [==============================] - 5s 61ms/step - loss: 0.0156 - accuracy: 0.9954 - val_loss: 0.1315 - val_accuracy: 0.9538\n",
      "Epoch 16/20\n",
      "76/76 [==============================] - 5s 62ms/step - loss: 0.0142 - accuracy: 0.9963 - val_loss: 0.3916 - val_accuracy: 0.9115\n",
      "Epoch 17/20\n",
      "76/76 [==============================] - 5s 61ms/step - loss: 0.0338 - accuracy: 0.9871 - val_loss: 0.1737 - val_accuracy: 0.9423\n",
      "Epoch 18/20\n",
      "76/76 [==============================] - 5s 62ms/step - loss: 0.0086 - accuracy: 0.9975 - val_loss: 0.1567 - val_accuracy: 0.9462\n",
      "Epoch 19/20\n",
      "76/76 [==============================] - 5s 62ms/step - loss: 0.0021 - accuracy: 0.9996 - val_loss: 0.1993 - val_accuracy: 0.9423\n",
      "Epoch 20/20\n",
      "76/76 [==============================] - 5s 62ms/step - loss: 0.0024 - accuracy: 0.9996 - val_loss: 0.2271 - val_accuracy: 0.9385\n"
     ]
    }
   ],
   "source": [
    "# AlexNet\n",
    "\n",
    "history = alexnet.fit(train, epochs=20, batch_size=20, validation_data=val)"
   ]
  }
 ],
 "metadata": {
  "kernelspec": {
   "display_name": "ml",
   "language": "python",
   "name": "python3"
  },
  "language_info": {
   "codemirror_mode": {
    "name": "ipython",
    "version": 3
   },
   "file_extension": ".py",
   "mimetype": "text/x-python",
   "name": "python",
   "nbconvert_exporter": "python",
   "pygments_lexer": "ipython3",
   "version": "3.9.16"
  }
 },
 "nbformat": 4,
 "nbformat_minor": 5
}
