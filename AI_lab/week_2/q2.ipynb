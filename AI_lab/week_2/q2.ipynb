{
 "cells": [
  {
   "cell_type": "code",
   "execution_count": 1,
   "metadata": {},
   "outputs": [],
   "source": [
    "import gym\n",
    "import pygame\n",
    "import matplotlib.pyplot as plt"
   ]
  },
  {
   "cell_type": "code",
   "execution_count": 2,
   "metadata": {},
   "outputs": [
    {
     "name": "stdout",
     "output_type": "stream",
     "text": [
      "[ 0.0479282  -0.01488754  0.02419286  0.04623228] {}\n"
     ]
    }
   ],
   "source": [
    "env = gym.make('CartPole-v1', render_mode=\"human\")\n",
    "observation, info = env.reset()\n",
    "print(observation, info)"
   ]
  },
  {
   "cell_type": "code",
   "execution_count": 3,
   "metadata": {},
   "outputs": [
    {
     "name": "stderr",
     "output_type": "stream",
     "text": [
      "/home/mca/.local/lib/python3.10/site-packages/gym/utils/passive_env_checker.py:233: DeprecationWarning: `np.bool8` is a deprecated alias for `np.bool_`.  (Deprecated NumPy 1.24)\n",
      "  if not isinstance(terminated, (bool, np.bool8)):\n"
     ]
    },
    {
     "name": "stdout",
     "output_type": "stream",
     "text": [
      "Episode: 0 Theta reward: 10.0 Omega reward: 0\n",
      "Episode: 1 Theta reward: 10.0 Omega reward: 0\n",
      "Episode: 2 Theta reward: 10.0 Omega reward: 0\n",
      "Episode: 3 Theta reward: 10.0 Omega reward: 0\n",
      "Episode: 4 Theta reward: 10.0 Omega reward: 0\n",
      "Episode: 5 Theta reward: 10.0 Omega reward: 0\n",
      "Episode: 6 Theta reward: 10.0 Omega reward: 0\n",
      "Episode: 7 Theta reward: 10.0 Omega reward: 0\n",
      "Episode: 8 Theta reward: 10.0 Omega reward: 0\n",
      "Episode: 9 Theta reward: 10.0 Omega reward: 0\n",
      "Episode: 10 Theta reward: 9.0 Omega reward: 0\n",
      "Episode: 11 Theta reward: 10.0 Omega reward: 0\n",
      "Episode: 12 Theta reward: 10.0 Omega reward: 0\n",
      "Episode: 13 Theta reward: 10.0 Omega reward: 0\n",
      "Episode: 14 Theta reward: 10.0 Omega reward: 0\n",
      "Episode: 15 Theta reward: 10.0 Omega reward: 0\n",
      "Episode: 16 Theta reward: 10.0 Omega reward: 0\n",
      "Episode: 17 Theta reward: 10.0 Omega reward: 0\n",
      "Episode: 18 Theta reward: 10.0 Omega reward: 0\n",
      "Episode: 19 Theta reward: 10.0 Omega reward: 0\n",
      "Episode: 20 Theta reward: 10.0 Omega reward: 0\n",
      "Episode: 21 Theta reward: 10.0 Omega reward: 0\n",
      "Episode: 22 Theta reward: 10.0 Omega reward: 0\n",
      "Episode: 23 Theta reward: 10.0 Omega reward: 0\n",
      "Episode: 24 Theta reward: 10.0 Omega reward: 0\n",
      "Episode: 25 Theta reward: 10.0 Omega reward: 0\n",
      "Episode: 26 Theta reward: 10.0 Omega reward: 0\n",
      "Episode: 27 Theta reward: 10.0 Omega reward: 0\n",
      "Episode: 28 Theta reward: 10.0 Omega reward: 0\n",
      "Episode: 29 Theta reward: 10.0 Omega reward: 0\n",
      "Episode: 30 Theta reward: 10.0 Omega reward: 0\n",
      "Episode: 31 Theta reward: 10.0 Omega reward: 0\n",
      "Episode: 32 Theta reward: 10.0 Omega reward: 0\n",
      "Episode: 33 Theta reward: 10.0 Omega reward: 0\n",
      "Episode: 34 Theta reward: 10.0 Omega reward: 0\n",
      "Episode: 35 Theta reward: 10.0 Omega reward: 0\n",
      "Episode: 36 Theta reward: 10.0 Omega reward: 0\n",
      "Episode: 37 Theta reward: 10.0 Omega reward: 0\n",
      "Episode: 38 Theta reward: 10.0 Omega reward: 0\n",
      "Episode: 39 Theta reward: 10.0 Omega reward: 0\n",
      "Episode: 40 Theta reward: 10.0 Omega reward: 0\n",
      "Episode: 41 Theta reward: 10.0 Omega reward: 0\n",
      "Episode: 42 Theta reward: 10.0 Omega reward: 0\n",
      "Episode: 43 Theta reward: 10.0 Omega reward: 0\n",
      "Episode: 44 Theta reward: 10.0 Omega reward: 0\n",
      "Episode: 45 Theta reward: 10.0 Omega reward: 0\n",
      "Episode: 46 Theta reward: 10.0 Omega reward: 0\n",
      "Episode: 47 Theta reward: 10.0 Omega reward: 0\n",
      "Episode: 48 Theta reward: 10.0 Omega reward: 0\n",
      "Episode: 49 Theta reward: 10.0 Omega reward: 0\n",
      "Episode: 50 Theta reward: 10.0 Omega reward: 0\n",
      "Episode: 51 Theta reward: 10.0 Omega reward: 0\n",
      "Episode: 52 Theta reward: 10.0 Omega reward: 0\n",
      "Episode: 53 Theta reward: 10.0 Omega reward: 0\n",
      "Episode: 54 Theta reward: 10.0 Omega reward: 0\n",
      "Episode: 55 Theta reward: 10.0 Omega reward: 0\n",
      "Episode: 56 Theta reward: 10.0 Omega reward: 0\n",
      "Episode: 57 Theta reward: 9.0 Omega reward: 0\n",
      "Episode: 58 Theta reward: 10.0 Omega reward: 0\n",
      "Episode: 59 Theta reward: 9.0 Omega reward: 0\n",
      "Episode: 60 Theta reward: 10.0 Omega reward: 0\n",
      "Episode: 61 Theta reward: 10.0 Omega reward: 0\n",
      "Episode: 62 Theta reward: 10.0 Omega reward: 0\n",
      "Episode: 63 Theta reward: 10.0 Omega reward: 0\n",
      "Episode: 64 Theta reward: 10.0 Omega reward: 0\n",
      "Episode: 65 Theta reward: 11.0 Omega reward: 0\n",
      "Episode: 66 Theta reward: 10.0 Omega reward: 0\n",
      "Episode: 67 Theta reward: 9.0 Omega reward: 0\n",
      "Episode: 68 Theta reward: 10.0 Omega reward: 0\n",
      "Episode: 69 Theta reward: 10.0 Omega reward: 0\n",
      "Episode: 70 Theta reward: 10.0 Omega reward: 0\n",
      "Episode: 71 Theta reward: 10.0 Omega reward: 0\n",
      "Episode: 72 Theta reward: 10.0 Omega reward: 0\n",
      "Episode: 73 Theta reward: 10.0 Omega reward: 0\n",
      "Episode: 74 Theta reward: 9.0 Omega reward: 0\n",
      "Episode: 75 Theta reward: 10.0 Omega reward: 0\n",
      "Episode: 76 Theta reward: 10.0 Omega reward: 0\n",
      "Episode: 77 Theta reward: 10.0 Omega reward: 0\n",
      "Episode: 78 Theta reward: 10.0 Omega reward: 0\n",
      "Episode: 79 Theta reward: 10.0 Omega reward: 0\n",
      "Episode: 80 Theta reward: 10.0 Omega reward: 0\n",
      "Episode: 81 Theta reward: 10.0 Omega reward: 0\n",
      "Episode: 82 Theta reward: 10.0 Omega reward: 0\n",
      "Episode: 83 Theta reward: 10.0 Omega reward: 0\n",
      "Episode: 84 Theta reward: 9.0 Omega reward: 0\n",
      "Episode: 85 Theta reward: 10.0 Omega reward: 0\n",
      "Episode: 86 Theta reward: 10.0 Omega reward: 0\n",
      "Episode: 87 Theta reward: 11.0 Omega reward: 0\n",
      "Episode: 88 Theta reward: 9.0 Omega reward: 0\n",
      "Episode: 89 Theta reward: 10.0 Omega reward: 0\n",
      "Episode: 90 Theta reward: 10.0 Omega reward: 0\n",
      "Episode: 91 Theta reward: 10.0 Omega reward: 0\n",
      "Episode: 92 Theta reward: 10.0 Omega reward: 0\n",
      "Episode: 93 Theta reward: 10.0 Omega reward: 0\n",
      "Episode: 94 Theta reward: 10.0 Omega reward: 0\n",
      "Episode: 95 Theta reward: 10.0 Omega reward: 0\n",
      "Episode: 96 Theta reward: 10.0 Omega reward: 0\n",
      "Episode: 97 Theta reward: 10.0 Omega reward: 0\n",
      "Episode: 98 Theta reward: 9.0 Omega reward: 0\n",
      "Episode: 99 Theta reward: 10.0 Omega reward: 0\n"
     ]
    }
   ],
   "source": [
    "theta_history = []\n",
    "omega_history = []\n",
    "sum_theta_reward = 0\n",
    "sum_omega_reward = 0\n",
    "episodes = 0\n",
    "while episodes < 100:\n",
    "    # Theta Policy\n",
    "    if(observation[2] < 0.5):\n",
    "        theta_value = env.step(0)\n",
    "    elif(observation[2] > 0.5):\n",
    "        theta_value = env.step(1)\n",
    "    observation_a, reward, terminated, truncated, info = theta_value \n",
    "    sum_theta_reward = reward + sum_theta_reward\n",
    "    \n",
    "    # Omega Policy\n",
    "    if(observation[3] < 0.5):\n",
    "        omega_value = env.step(0)\n",
    "    if(observation[3] > 0.5):\n",
    "        omega_value = env.step(1)\n",
    "    observation, reward, terminated, truncated, info = omega_value \n",
    "    sum_omega_reward = reward + sum_omega_reward\n",
    "\n",
    "    if terminated or truncated:\n",
    "        print(\"Episode:\", episodes, \"Theta reward:\", sum_theta_reward, \"Omega reward:\", sum_omega_reward) \n",
    "        omega_history.append(sum_omega_reward)\n",
    "        theta_history.append(sum_theta_reward)\n",
    "        episodes = episodes + 1\n",
    "        sum_omega_reward = 0\n",
    "        sum_theta_reward = 0\n",
    "        observation, info = env.reset()\n",
    "env.close()"
   ]
  },
  {
   "cell_type": "code",
   "execution_count": null,
   "metadata": {},
   "outputs": [],
   "source": [
    "# Plotting Theta Policy \n",
    "\n",
    "plt.plot(theta_history, omega_history, label = \"Theta Policy Reward\")\n",
    "plt.plot(omega_history, theta_history, label = \"Omega Policy Reward\")\n",
    "plt.show()"
   ]
  },
  {
   "cell_type": "code",
   "execution_count": 27,
   "metadata": {},
   "outputs": [
    {
     "data": {
      "image/png": "[encoded data removed]",
      "text/plain": [
       "<Figure size 640x480 with 1 Axes>"
      ]
     },
     "metadata": {},
     "output_type": "display_data"
    }
   ],
   "source": [
    "plt.plot(theta_history) \n",
    "plt.show()"
   ]
  },
  {
   "cell_type": "code",
   "execution_count": 28,
   "metadata": {},
   "outputs": [
    {
     "data": {
      "text/plain": [
       "[<matplotlib.lines.Line2D at 0x7fa9f9673a00>]"
      ]
     },
     "execution_count": 28,
     "metadata": {},
     "output_type": "execute_result"
    },
    {
     "data": {
      "image/png": "[encoded data removed]",
      "text/plain": [
       "<Figure size 640x480 with 1 Axes>"
      ]
     },
     "metadata": {},
     "output_type": "display_data"
    }
   ],
   "source": [
    "plt.plot(omega_history) "
   ]
  },
  {
   "cell_type": "code",
   "execution_count": null,
   "metadata": {},
   "outputs": [],
   "source": []
  }
 ],
 "metadata": {
  "kernelspec": {
   "display_name": "Python 3",
   "language": "python",
   "name": "python3"
  },
  "language_info": {
   "codemirror_mode": {
    "name": "ipython",
    "version": 3
   },
   "file_extension": ".py",
   "mimetype": "text/x-python",
   "name": "python",
   "nbconvert_exporter": "python",
   "pygments_lexer": "ipython3",
   "version": "3.10.12"
  }
 },
 "nbformat": 4,
 "nbformat_minor": 2
}
