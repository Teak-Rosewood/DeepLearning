{
 "cells": [
  {
   "cell_type": "code",
   "execution_count": 4,
   "metadata": {},
   "outputs": [],
   "source": [
    "from easyAI import TwoPlayerGame\n",
    "from easyAI.Player import Human_Player\n",
    "\n",
    "\n",
    "class TicTacToe(TwoPlayerGame):\n",
    "    \"\"\"The board positions are numbered as follows:\n",
    "    1 2 3\n",
    "    4 5 6\n",
    "    7 8 9\n",
    "    \"\"\"\n",
    "\n",
    "    def __init__(self, players):\n",
    "        self.players = players\n",
    "        self.board = [0 for i in range(9)]\n",
    "        self.current_player = 1  # player 1 starts.\n",
    "\n",
    "    def possible_moves(self):\n",
    "        return [i + 1 for i, e in enumerate(self.board) if e == 0]\n",
    "\n",
    "    def make_move(self, move):\n",
    "        self.board[int(move) - 1] = self.current_player\n",
    "\n",
    "    def unmake_move(self, move):  # optional method (speeds up the AI)\n",
    "        self.board[int(move) - 1] = 0\n",
    "\n",
    "    def lose(self):\n",
    "        \"\"\" Has the opponent \"three in line ?\" \"\"\"\n",
    "        return any(\n",
    "            [\n",
    "                all([(self.board[c - 1] == self.opponent_index) for c in line])\n",
    "                for line in [\n",
    "                    [1, 2, 3],\n",
    "                    [4, 5, 6],\n",
    "                    [7, 8, 9],  # horiz.\n",
    "                    [1, 4, 7],\n",
    "                    [2, 5, 8],\n",
    "                    [3, 6, 9],  # vertical\n",
    "                    [1, 5, 9],\n",
    "                    [3, 5, 7],\n",
    "                ]\n",
    "            ]\n",
    "        )  # diagonal\n",
    "\n",
    "    def is_over(self):\n",
    "        return (self.possible_moves() == []) or self.lose()\n",
    "\n",
    "    def show(self):\n",
    "        print(\n",
    "            \"\\n\"\n",
    "            + \"\\n\".join(\n",
    "                [\n",
    "                    \" \".join([[\".\", \"O\", \"X\"][self.board[3 * j + i]] for i in range(3)])\n",
    "                    for j in range(3)\n",
    "                ]\n",
    "            )\n",
    "        )\n",
    "\n",
    "    def scoring(self):\n",
    "        return -100 if self.lose() else 0\n",
    "\n"
   ]
  },
  {
   "cell_type": "code",
   "execution_count": 2,
   "metadata": {},
   "outputs": [
    {
     "name": "stdout",
     "output_type": "stream",
     "text": [
      "\n",
      ". . .\n",
      ". . .\n",
      ". . .\n",
      "\n",
      "Move #1: player 1 plays 1 :\n",
      "\n",
      "O . .\n",
      ". . .\n",
      ". . .\n",
      "\n",
      "Move #2: player 2 plays 5 :\n",
      "\n",
      "O . .\n",
      ". X .\n",
      ". . .\n",
      "\n",
      "Move #3: player 1 plays 2 :\n",
      "\n",
      "O O .\n",
      ". X .\n",
      ". . .\n",
      "\n",
      "Move #4: player 2 plays 3 :\n",
      "\n",
      "O O X\n",
      ". X .\n",
      ". . .\n",
      "\n",
      "Move #5: player 1 plays 4 :\n",
      "\n",
      "O O X\n",
      "O X .\n",
      ". . .\n",
      "\n",
      "Move #6: player 2 plays 7 :\n",
      "\n",
      "O O X\n",
      "O X .\n",
      "X . .\n"
     ]
    },
    {
     "data": {
      "text/plain": [
       "[(<__main__.TicTacToe at 0x7f2abc1473d0>, 1),\n",
       " (<__main__.TicTacToe at 0x7f2abd1d2ca0>, 5),\n",
       " (<__main__.TicTacToe at 0x7f2abc0a1df0>, 2),\n",
       " (<__main__.TicTacToe at 0x7f2abc0a1fd0>, 3),\n",
       " (<__main__.TicTacToe at 0x7f2abc0a1970>, 4),\n",
       " (<__main__.TicTacToe at 0x7f2abc0e8f10>, 7),\n",
       " <__main__.TicTacToe at 0x7f2abc0e8e80>]"
      ]
     },
     "execution_count": 2,
     "metadata": {},
     "output_type": "execute_result"
    }
   ],
   "source": [
    "from easyAI import AI_Player, solve_with_iterative_deepening, solve_with_depth_first_search, DUAL\n",
    "\n",
    "algo = DUAL(6)\n",
    "game = TicTacToe([Human_Player(), AI_Player(algo)])\n",
    "\n",
    "game.play()"
   ]
  },
  {
   "cell_type": "code",
   "execution_count": 3,
   "metadata": {},
   "outputs": [
    {
     "name": "stdout",
     "output_type": "stream",
     "text": [
      "-1\n",
      "d:10, a:-101, m:7\n",
      "(-1, 10, 7)\n"
     ]
    }
   ],
   "source": [
    "print(solve_with_depth_first_search(game,100)) # DFS\n",
    "print(solve_with_iterative_deepening(game,[10],100)) #iterative deepening "
   ]
  }
 ],
 "metadata": {
  "kernelspec": {
   "display_name": "Python 3",
   "language": "python",
   "name": "python3"
  },
  "language_info": {
   "codemirror_mode": {
    "name": "ipython",
    "version": 3
   },
   "file_extension": ".py",
   "mimetype": "text/x-python",
   "name": "python",
   "nbconvert_exporter": "python",
   "pygments_lexer": "ipython3",
   "version": "3.9.18"
  }
 },
 "nbformat": 4,
 "nbformat_minor": 2
}
