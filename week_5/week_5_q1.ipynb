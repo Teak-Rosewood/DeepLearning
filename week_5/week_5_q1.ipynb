{
 "cells": [
  {
   "cell_type": "code",
   "execution_count": 1,
   "id": "77709ba5-42d6-4afe-9c99-751027592680",
   "metadata": {},
   "outputs": [],
   "source": [
    "import os \n",
    "os.environ['TF_CPP_MIN_LOG_LEVEL'] = '2'\n",
    "import pandas as pd\n",
    "import numpy as np \n",
    "import matplotlib.pyplot as plt\n",
    "import seaborn as sns\n",
    "import tensorflow as tf \n",
    "import tensorflow.keras.layers as tfl"
   ]
  },
  {
   "cell_type": "code",
   "execution_count": 2,
   "id": "c93daac2-c4ff-42ca-b6d8-8525c73a8438",
   "metadata": {},
   "outputs": [],
   "source": [
    "### Question 1"
   ]
  },
  {
   "cell_type": "code",
   "execution_count": 3,
   "id": "8b36be90-76fa-4f18-8f6d-7fbcf720f993",
   "metadata": {},
   "outputs": [
    {
     "name": "stdout",
     "output_type": "stream",
     "text": [
      "(1000, 51, 1)\n",
      "(800, 50, 1) (800, 1)\n"
     ]
    }
   ],
   "source": [
    "# Data Generation Function\n",
    "\n",
    "def generate_time_series(sample_size, n_steps):\n",
    " freq1, freq2, offsets1, offsets2 = np.random.rand(4, sample_size, 1)\n",
    " time = np.linspace(0, 1, n_steps)\n",
    " series = 0.5 * np.sin((time - offsets1) * (freq1 * 10 + 10))\n",
    " series += 0.2 * np.sin((time - offsets2) * (freq2 * 20 + 20))\n",
    " series += 0.1 * (np.random.rand(sample_size, n_steps) - 0.5) \n",
    " return series[..., np.newaxis].astype(np.float32)\n",
    "\n",
    "# Data Generation\n",
    "sample_size = 1000\n",
    "n_steps = 51\n",
    "series = generate_time_series(sample_size, n_steps)\n",
    "print(series.shape)\n",
    "\n",
    "# Split the data into input sequences (X) and labels (y)\n",
    "X = series[:, :50, :] \n",
    "y = series[:, -1, :]  \n",
    "\n",
    "# Split the data into training and validation sets\n",
    "split_ratio = 0.8\n",
    "split_index = int(sample_size * split_ratio)\n",
    "X_train, X_val = X[:split_index], X[split_index:]\n",
    "y_train, y_val = y[:split_index], y[split_index:]\n",
    "print(X_train.shape, y_train.shape)"
   ]
  },
  {
   "cell_type": "code",
   "execution_count": 4,
   "id": "86bf0147-35d7-4c6b-a973-1182f419ba9e",
   "metadata": {},
   "outputs": [
    {
     "name": "stdout",
     "output_type": "stream",
     "text": [
      "Epoch 1/20\n",
      "25/25 [==============================] - 1s 8ms/step - loss: 0.1275 - mse: 0.1275 - val_loss: 0.0821 - val_mse: 0.0821\n",
      "Epoch 2/20\n",
      "25/25 [==============================] - 0s 2ms/step - loss: 0.0537 - mse: 0.0537 - val_loss: 0.0532 - val_mse: 0.0532\n",
      "Epoch 3/20\n",
      "25/25 [==============================] - 0s 2ms/step - loss: 0.0347 - mse: 0.0347 - val_loss: 0.0379 - val_mse: 0.0379\n",
      "Epoch 4/20\n",
      "25/25 [==============================] - 0s 2ms/step - loss: 0.0254 - mse: 0.0254 - val_loss: 0.0279 - val_mse: 0.0279\n",
      "Epoch 5/20\n",
      "25/25 [==============================] - 0s 2ms/step - loss: 0.0191 - mse: 0.0191 - val_loss: 0.0211 - val_mse: 0.0211\n",
      "Epoch 6/20\n",
      "25/25 [==============================] - 0s 2ms/step - loss: 0.0153 - mse: 0.0153 - val_loss: 0.0171 - val_mse: 0.0171\n",
      "Epoch 7/20\n",
      "25/25 [==============================] - 0s 2ms/step - loss: 0.0125 - mse: 0.0125 - val_loss: 0.0146 - val_mse: 0.0146\n",
      "Epoch 8/20\n",
      "25/25 [==============================] - 0s 2ms/step - loss: 0.0109 - mse: 0.0109 - val_loss: 0.0125 - val_mse: 0.0125\n",
      "Epoch 9/20\n",
      "25/25 [==============================] - 0s 2ms/step - loss: 0.0096 - mse: 0.0096 - val_loss: 0.0114 - val_mse: 0.0114\n",
      "Epoch 10/20\n",
      "25/25 [==============================] - 0s 2ms/step - loss: 0.0090 - mse: 0.0090 - val_loss: 0.0103 - val_mse: 0.0103\n",
      "Epoch 11/20\n",
      "25/25 [==============================] - 0s 2ms/step - loss: 0.0082 - mse: 0.0082 - val_loss: 0.0097 - val_mse: 0.0097\n",
      "Epoch 12/20\n",
      "25/25 [==============================] - 0s 2ms/step - loss: 0.0074 - mse: 0.0074 - val_loss: 0.0090 - val_mse: 0.0090\n",
      "Epoch 13/20\n",
      "25/25 [==============================] - 0s 1ms/step - loss: 0.0068 - mse: 0.0068 - val_loss: 0.0084 - val_mse: 0.0084\n",
      "Epoch 14/20\n",
      "25/25 [==============================] - 0s 2ms/step - loss: 0.0063 - mse: 0.0063 - val_loss: 0.0079 - val_mse: 0.0079\n",
      "Epoch 15/20\n",
      "25/25 [==============================] - 0s 4ms/step - loss: 0.0059 - mse: 0.0059 - val_loss: 0.0078 - val_mse: 0.0078\n",
      "Epoch 16/20\n",
      "25/25 [==============================] - 0s 2ms/step - loss: 0.0055 - mse: 0.0055 - val_loss: 0.0074 - val_mse: 0.0074\n",
      "Epoch 17/20\n",
      "25/25 [==============================] - 0s 3ms/step - loss: 0.0052 - mse: 0.0052 - val_loss: 0.0075 - val_mse: 0.0075\n",
      "Epoch 18/20\n",
      "25/25 [==============================] - 0s 2ms/step - loss: 0.0051 - mse: 0.0051 - val_loss: 0.0069 - val_mse: 0.0069\n",
      "Epoch 19/20\n",
      "25/25 [==============================] - 0s 2ms/step - loss: 0.0048 - mse: 0.0048 - val_loss: 0.0067 - val_mse: 0.0067\n",
      "Epoch 20/20\n",
      "25/25 [==============================] - 0s 4ms/step - loss: 0.0047 - mse: 0.0047 - val_loss: 0.0069 - val_mse: 0.0069\n",
      "7/7 [==============================] - 0s 935us/step - loss: 0.0069 - mse: 0.0069\n",
      "[0.006936966907233, 0.006936966907233]\n"
     ]
    }
   ],
   "source": [
    "# FCNN model\n",
    "fcnn_model = tf.keras.Sequential([\n",
    "    tfl.Flatten(input_shape=(50, 1)),\n",
    "    tfl.Dense(64, activation='relu'),\n",
    "    tfl.Dense(1)\n",
    "])\n",
    "fcnn_model.compile(optimizer='adam', loss='mean_squared_error', metrics=['mse'])\n",
    "\n",
    "history = fcnn_model.fit(X_train, y_train, epochs = 20, validation_data=(X_val, y_val))\n",
    "\n",
    "# Loss and Accuracy\n",
    "\n",
    "scores = fcnn_model.evaluate(X_val, y_val)\n",
    "print(scores)"
   ]
  },
  {
   "cell_type": "code",
   "execution_count": 5,
   "id": "ca8102ff-8580-4538-91d2-672d4fd14368",
   "metadata": {},
   "outputs": [],
   "source": [
    "# RNN model\n",
    "model = tf.keras.Sequential([\n",
    "    tf.keras.layers.SimpleRNN(20, return_sequences=True, input_shape=[None, 1]),\n",
    "    tf.keras.layers.Dense(1)\n",
    "])\n",
    "\n",
    "# Compile the model\n",
    "model.compile(optimizer='adam', loss='mse',metrics=['mse'])"
   ]
  },
  {
   "cell_type": "code",
   "execution_count": 6,
   "id": "91be6d02-0d28-4350-becf-b288cbd5627d",
   "metadata": {},
   "outputs": [
    {
     "name": "stdout",
     "output_type": "stream",
     "text": [
      "Epoch 1/20\n",
      "25/25 [==============================] - 1s 11ms/step - loss: 0.1993 - mse: 0.1993 - val_loss: 0.1539 - val_mse: 0.1539\n",
      "Epoch 2/20\n",
      "25/25 [==============================] - 0s 7ms/step - loss: 0.1459 - mse: 0.1459 - val_loss: 0.1471 - val_mse: 0.1471\n",
      "Epoch 3/20\n",
      "25/25 [==============================] - 0s 7ms/step - loss: 0.1427 - mse: 0.1427 - val_loss: 0.1458 - val_mse: 0.1458\n",
      "Epoch 4/20\n",
      "25/25 [==============================] - 0s 7ms/step - loss: 0.1420 - mse: 0.1420 - val_loss: 0.1450 - val_mse: 0.1450\n",
      "Epoch 5/20\n",
      "25/25 [==============================] - 0s 8ms/step - loss: 0.1417 - mse: 0.1417 - val_loss: 0.1445 - val_mse: 0.1445\n",
      "Epoch 6/20\n",
      "25/25 [==============================] - 0s 9ms/step - loss: 0.1408 - mse: 0.1408 - val_loss: 0.1438 - val_mse: 0.1438\n",
      "Epoch 7/20\n",
      "25/25 [==============================] - 0s 8ms/step - loss: 0.1413 - mse: 0.1413 - val_loss: 0.1440 - val_mse: 0.1440\n",
      "Epoch 8/20\n",
      "25/25 [==============================] - 0s 9ms/step - loss: 0.1409 - mse: 0.1409 - val_loss: 0.1433 - val_mse: 0.1433\n",
      "Epoch 9/20\n",
      "25/25 [==============================] - 0s 8ms/step - loss: 0.1400 - mse: 0.1400 - val_loss: 0.1437 - val_mse: 0.1437\n",
      "Epoch 10/20\n",
      "25/25 [==============================] - 0s 7ms/step - loss: 0.1410 - mse: 0.1410 - val_loss: 0.1442 - val_mse: 0.1442\n",
      "Epoch 11/20\n",
      "25/25 [==============================] - 0s 8ms/step - loss: 0.1405 - mse: 0.1405 - val_loss: 0.1436 - val_mse: 0.1436\n",
      "Epoch 12/20\n",
      "25/25 [==============================] - 0s 7ms/step - loss: 0.1402 - mse: 0.1402 - val_loss: 0.1440 - val_mse: 0.1440\n",
      "Epoch 13/20\n",
      "25/25 [==============================] - 0s 7ms/step - loss: 0.1402 - mse: 0.1402 - val_loss: 0.1414 - val_mse: 0.1414\n",
      "Epoch 14/20\n",
      "25/25 [==============================] - 0s 8ms/step - loss: 0.1409 - mse: 0.1409 - val_loss: 0.1457 - val_mse: 0.1457\n",
      "Epoch 15/20\n",
      "25/25 [==============================] - 0s 7ms/step - loss: 0.1405 - mse: 0.1405 - val_loss: 0.1427 - val_mse: 0.1427\n",
      "Epoch 16/20\n",
      "25/25 [==============================] - 0s 8ms/step - loss: 0.1402 - mse: 0.1402 - val_loss: 0.1425 - val_mse: 0.1425\n",
      "Epoch 17/20\n",
      "25/25 [==============================] - 0s 7ms/step - loss: 0.1401 - mse: 0.1401 - val_loss: 0.1431 - val_mse: 0.1431\n",
      "Epoch 18/20\n",
      "25/25 [==============================] - 0s 8ms/step - loss: 0.1405 - mse: 0.1405 - val_loss: 0.1435 - val_mse: 0.1435\n",
      "Epoch 19/20\n",
      "25/25 [==============================] - 0s 7ms/step - loss: 0.1403 - mse: 0.1403 - val_loss: 0.1420 - val_mse: 0.1420\n",
      "Epoch 20/20\n",
      "25/25 [==============================] - 0s 7ms/step - loss: 0.1399 - mse: 0.1399 - val_loss: 0.1424 - val_mse: 0.1424\n"
     ]
    }
   ],
   "source": [
    "# Train the model\n",
    "history = model.fit(X_train, y_train, epochs=20, validation_data=(X_val, y_val))"
   ]
  },
  {
   "cell_type": "code",
   "execution_count": 7,
   "id": "fa944335-3b93-4007-8e09-7b5399627d7a",
   "metadata": {},
   "outputs": [
    {
     "name": "stdout",
     "output_type": "stream",
     "text": [
      "7/7 [==============================] - 0s 4ms/step - loss: 0.1424 - mse: 0.1424\n",
      "[0.1423889845609665, 0.1423889845609665]\n"
     ]
    }
   ],
   "source": [
    "# Loss and Accuracy\n",
    "\n",
    "rnn_scores = model.evaluate(X_val, y_val)\n",
    "\n",
    "print(rnn_scores)"
   ]
  },
  {
   "cell_type": "code",
   "execution_count": 8,
   "id": "f3abd6d0-fd03-4ae0-9f5d-999110747b0d",
   "metadata": {},
   "outputs": [
    {
     "name": "stdout",
     "output_type": "stream",
     "text": [
      "Epoch 1/20\n",
      "25/25 [==============================] - 1s 12ms/step - loss: 0.1504 - mse: 0.1504 - val_loss: 0.1464 - val_mse: 0.1464\n",
      "Epoch 2/20\n",
      "25/25 [==============================] - 0s 8ms/step - loss: 0.1423 - mse: 0.1423 - val_loss: 0.1486 - val_mse: 0.1486\n",
      "Epoch 3/20\n",
      "25/25 [==============================] - 0s 8ms/step - loss: 0.1418 - mse: 0.1418 - val_loss: 0.1467 - val_mse: 0.1467\n",
      "Epoch 4/20\n",
      "25/25 [==============================] - 0s 8ms/step - loss: 0.1418 - mse: 0.1418 - val_loss: 0.1460 - val_mse: 0.1460\n",
      "Epoch 5/20\n",
      "25/25 [==============================] - 0s 8ms/step - loss: 0.1409 - mse: 0.1409 - val_loss: 0.1449 - val_mse: 0.1449\n",
      "Epoch 6/20\n",
      "25/25 [==============================] - 0s 9ms/step - loss: 0.1409 - mse: 0.1409 - val_loss: 0.1456 - val_mse: 0.1456\n",
      "Epoch 7/20\n",
      "25/25 [==============================] - 0s 8ms/step - loss: 0.1422 - mse: 0.1422 - val_loss: 0.1454 - val_mse: 0.1454\n",
      "Epoch 8/20\n",
      "25/25 [==============================] - 0s 8ms/step - loss: 0.1409 - mse: 0.1409 - val_loss: 0.1450 - val_mse: 0.1450\n",
      "Epoch 9/20\n",
      "25/25 [==============================] - 0s 7ms/step - loss: 0.1405 - mse: 0.1405 - val_loss: 0.1443 - val_mse: 0.1443\n",
      "Epoch 10/20\n",
      "25/25 [==============================] - 0s 8ms/step - loss: 0.1402 - mse: 0.1402 - val_loss: 0.1437 - val_mse: 0.1437\n",
      "Epoch 11/20\n",
      "25/25 [==============================] - 0s 7ms/step - loss: 0.1402 - mse: 0.1402 - val_loss: 0.1445 - val_mse: 0.1445\n",
      "Epoch 12/20\n",
      "25/25 [==============================] - 0s 9ms/step - loss: 0.1402 - mse: 0.1402 - val_loss: 0.1436 - val_mse: 0.1436\n",
      "Epoch 13/20\n",
      "25/25 [==============================] - 0s 7ms/step - loss: 0.1409 - mse: 0.1409 - val_loss: 0.1454 - val_mse: 0.1454\n",
      "Epoch 14/20\n",
      "25/25 [==============================] - 0s 8ms/step - loss: 0.1406 - mse: 0.1406 - val_loss: 0.1451 - val_mse: 0.1451\n",
      "Epoch 15/20\n",
      "25/25 [==============================] - 0s 8ms/step - loss: 0.1399 - mse: 0.1399 - val_loss: 0.1448 - val_mse: 0.1448\n",
      "Epoch 16/20\n",
      "25/25 [==============================] - 0s 9ms/step - loss: 0.1402 - mse: 0.1402 - val_loss: 0.1443 - val_mse: 0.1443\n",
      "Epoch 17/20\n",
      "25/25 [==============================] - 0s 8ms/step - loss: 0.1408 - mse: 0.1408 - val_loss: 0.1455 - val_mse: 0.1455\n",
      "Epoch 18/20\n",
      "25/25 [==============================] - 0s 9ms/step - loss: 0.1401 - mse: 0.1401 - val_loss: 0.1455 - val_mse: 0.1455\n",
      "Epoch 19/20\n",
      "25/25 [==============================] - 0s 7ms/step - loss: 0.1400 - mse: 0.1400 - val_loss: 0.1448 - val_mse: 0.1448\n",
      "Epoch 20/20\n",
      "25/25 [==============================] - 0s 8ms/step - loss: 0.1393 - mse: 0.1393 - val_loss: 0.1446 - val_mse: 0.1446\n"
     ]
    }
   ],
   "source": [
    "# RNN model 1 hidden layer\n",
    "model = tf.keras.Sequential([\n",
    "    tf.keras.layers.SimpleRNN(20, return_sequences=True, input_shape=[None, 1]),\n",
    "    tfl.Dense(64, activation='relu'),\n",
    "    tf.keras.layers.Dense(1)\n",
    "])\n",
    "\n",
    "# Compile the model\n",
    "model.compile(optimizer='adam', loss='mse',metrics=['mse'])\n",
    "history = model.fit(X_train, y_train, epochs=20, validation_data=(X_val, y_val))"
   ]
  },
  {
   "cell_type": "code",
   "execution_count": 9,
   "id": "6b14a874-feaa-43bc-a044-22facc5239c4",
   "metadata": {},
   "outputs": [
    {
     "name": "stdout",
     "output_type": "stream",
     "text": [
      "7/7 [==============================] - 0s 4ms/step - loss: 0.1446 - mse: 0.1446\n",
      "[0.1445779651403427, 0.1445779651403427]\n"
     ]
    }
   ],
   "source": [
    "# Loss and Accuracy\n",
    "\n",
    "rnn_scores = model.evaluate(X_val, y_val)\n",
    "print(rnn_scores)"
   ]
  },
  {
   "cell_type": "code",
   "execution_count": 10,
   "id": "933a68cc-0d13-4159-aa49-7d693ece8025",
   "metadata": {},
   "outputs": [
    {
     "name": "stdout",
     "output_type": "stream",
     "text": [
      "Epoch 1/20\n",
      "25/25 [==============================] - 1s 13ms/step - loss: 0.1424 - mse: 0.1424 - val_loss: 0.1439 - val_mse: 0.1439\n",
      "Epoch 2/20\n",
      "25/25 [==============================] - 0s 8ms/step - loss: 0.1398 - mse: 0.1398 - val_loss: 0.1391 - val_mse: 0.1391\n",
      "Epoch 3/20\n",
      "25/25 [==============================] - 0s 8ms/step - loss: 0.1382 - mse: 0.1382 - val_loss: 0.1374 - val_mse: 0.1374\n",
      "Epoch 4/20\n",
      "25/25 [==============================] - 0s 8ms/step - loss: 0.1360 - mse: 0.1360 - val_loss: 0.1361 - val_mse: 0.1361\n",
      "Epoch 5/20\n",
      "25/25 [==============================] - 0s 8ms/step - loss: 0.1360 - mse: 0.1360 - val_loss: 0.1340 - val_mse: 0.1340\n",
      "Epoch 6/20\n",
      "25/25 [==============================] - 0s 10ms/step - loss: 0.1334 - mse: 0.1334 - val_loss: 0.1359 - val_mse: 0.1359\n",
      "Epoch 7/20\n",
      "25/25 [==============================] - 0s 7ms/step - loss: 0.1337 - mse: 0.1337 - val_loss: 0.1293 - val_mse: 0.1293\n",
      "Epoch 8/20\n",
      "25/25 [==============================] - 0s 8ms/step - loss: 0.1328 - mse: 0.1328 - val_loss: 0.1303 - val_mse: 0.1303\n",
      "Epoch 9/20\n",
      "25/25 [==============================] - 0s 9ms/step - loss: 0.1305 - mse: 0.1305 - val_loss: 0.1322 - val_mse: 0.1322\n",
      "Epoch 10/20\n",
      "25/25 [==============================] - 0s 10ms/step - loss: 0.1295 - mse: 0.1295 - val_loss: 0.1244 - val_mse: 0.1244\n",
      "Epoch 11/20\n",
      "25/25 [==============================] - 0s 7ms/step - loss: 0.1230 - mse: 0.1230 - val_loss: 0.1177 - val_mse: 0.1177\n",
      "Epoch 12/20\n",
      "25/25 [==============================] - 0s 7ms/step - loss: 0.1190 - mse: 0.1190 - val_loss: 0.1133 - val_mse: 0.1133\n",
      "Epoch 13/20\n",
      "25/25 [==============================] - 0s 8ms/step - loss: 0.1154 - mse: 0.1154 - val_loss: 0.1148 - val_mse: 0.1148\n",
      "Epoch 14/20\n",
      "25/25 [==============================] - 0s 8ms/step - loss: 0.1123 - mse: 0.1123 - val_loss: 0.1117 - val_mse: 0.1117\n",
      "Epoch 15/20\n",
      "25/25 [==============================] - 0s 8ms/step - loss: 0.1125 - mse: 0.1125 - val_loss: 0.1127 - val_mse: 0.1127\n",
      "Epoch 16/20\n",
      "25/25 [==============================] - 0s 8ms/step - loss: 0.1068 - mse: 0.1068 - val_loss: 0.1002 - val_mse: 0.1002\n",
      "Epoch 17/20\n",
      "25/25 [==============================] - 0s 7ms/step - loss: 0.1048 - mse: 0.1048 - val_loss: 0.1003 - val_mse: 0.1003\n",
      "Epoch 18/20\n",
      "25/25 [==============================] - 0s 8ms/step - loss: 0.1029 - mse: 0.1029 - val_loss: 0.0978 - val_mse: 0.0978\n",
      "Epoch 19/20\n",
      "25/25 [==============================] - 0s 9ms/step - loss: 0.1008 - mse: 0.1008 - val_loss: 0.0983 - val_mse: 0.0983\n",
      "Epoch 20/20\n",
      "25/25 [==============================] - 0s 8ms/step - loss: 0.1000 - mse: 0.1000 - val_loss: 0.0989 - val_mse: 0.0989\n"
     ]
    }
   ],
   "source": [
    "# RNN model 2 hidden layers\n",
    "\n",
    "model = tf.keras.Sequential([\n",
    "    tf.keras.layers.SimpleRNN(20, return_sequences=True, input_shape=[None, 1]),\n",
    "    tfl.Dense(128, activation='relu'),\n",
    "    tfl.Dense(64, activation ='relu'),\n",
    "    tf.keras.layers.Dense(1)\n",
    "])\n",
    "\n",
    "# Compile the model\n",
    "model.compile(optimizer='adam', loss='mse',metrics=['mse'])\n",
    "history = model.fit(X_train, y_train, epochs=20, validation_data=(X_val, y_val))\n"
   ]
  },
  {
   "cell_type": "code",
   "execution_count": 11,
   "id": "7984f470-fcf5-4d70-871a-504e02d51a04",
   "metadata": {},
   "outputs": [
    {
     "name": "stdout",
     "output_type": "stream",
     "text": [
      "7/7 [==============================] - 0s 3ms/step - loss: 0.0989 - mse: 0.0989\n",
      "[0.09894893318414688, 0.09894893318414688]\n"
     ]
    }
   ],
   "source": [
    "# Loss and Accuracy\n",
    "\n",
    "rnn_scores = model.evaluate(X_val, y_val)\n",
    "print(rnn_scores)"
   ]
  }
 ],
 "metadata": {
  "kernelspec": {
   "display_name": "Python 3 (ipykernel)",
   "language": "python",
   "name": "python3"
  },
  "language_info": {
   "codemirror_mode": {
    "name": "ipython",
    "version": 3
   },
   "file_extension": ".py",
   "mimetype": "text/x-python",
   "name": "python",
   "nbconvert_exporter": "python",
   "pygments_lexer": "ipython3",
   "version": "3.11.4"
  }
 },
 "nbformat": 4,
 "nbformat_minor": 5
}
