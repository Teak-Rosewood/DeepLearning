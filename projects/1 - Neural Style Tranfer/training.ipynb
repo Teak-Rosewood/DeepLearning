{
 "cells": [
  {
   "cell_type": "code",
   "execution_count": 2,
   "metadata": {},
   "outputs": [],
   "source": [
    "import os\n",
    "os.environ['TF_CPP_MIN_LOG_LEVEL'] = '3'\n",
    "import tensorflow as tf\n",
    "import matplotlib.pyplot as plt\n",
    "import numpy as np \n",
    "from tensorflow.keras import backend as K\n"
   ]
  },
  {
   "cell_type": "code",
   "execution_count": null,
   "metadata": {},
   "outputs": [],
   "source": [
    "# Looking at layers to pick for content and style\n",
    "\n",
    "K.clear_session()\n",
    "\n",
    "temp = tf.keras.applications.InceptionV3()\n",
    "temp.summary()\n",
    "\n",
    "del temp"
   ]
  },
  {
   "cell_type": "code",
   "execution_count": 12,
   "metadata": {},
   "outputs": [
    {
     "name": "stdout",
     "output_type": "stream",
     "text": [
      "Number of Content Layers: 2\n",
      "Number of Style Layers: 6\n"
     ]
    }
   ],
   "source": [
    "# Selecting Content & Input Layers for Model\n",
    "\n",
    "content_layers = [\"conv2d_88\", \"conv2d_89\"]\n",
    "style_layers = [\"conv2d\", \"conv2d_1\", \"conv2d_2\",\"conv2d_3\",\"conv2d_4\", \"conv2d_5\"]\n",
    "\n",
    "combined_layers = style_layers + content_layers\n",
    "\n",
    "NUM_CONTENT_LAYERS = len(content_layers)\n",
    "NUM_STYLE_LAYERS = len(style_layers)\n",
    "\n",
    "print(\"Number of Content Layers:\", len(content_layers))\n",
    "print(\"Number of Style Layers:\",  len(style_layers))"
   ]
  },
  {
   "cell_type": "code",
   "execution_count": 7,
   "metadata": {},
   "outputs": [],
   "source": [
    "def inception_model(layer_names):\n",
    "    \n",
    "    inception = tf.keras.applications.inception_v3.InceptionV3(include_top=False)\n",
    "    \n",
    "    inception.trainable = False\n",
    "    \n",
    "    output_layers = [inception.get_layer(name).output for name in layer_names]\n",
    "\n",
    "    model = tf.keras.models.Model(inputs = inception.input, outputs = output_layers)\n",
    "\n",
    "    return model"
   ]
  },
  {
   "cell_type": "code",
   "execution_count": 8,
   "metadata": {},
   "outputs": [
    {
     "name": "stdout",
     "output_type": "stream",
     "text": [
      "Downloading data from https://storage.googleapis.com/tensorflow/keras-applications/inception_v3/inception_v3_weights_tf_dim_ordering_tf_kernels_notop.h5\n",
      "87910968/87910968 [==============================] - 25s 0us/step\n"
     ]
    }
   ],
   "source": [
    "K.clear_session()\n",
    "\n",
    "inception = inception_model(combined_layers)"
   ]
  },
  {
   "cell_type": "code",
   "execution_count": 9,
   "metadata": {},
   "outputs": [],
   "source": [
    "# Defining Loss Functions\n",
    "\n",
    "def style_loss(features, targets):\n",
    "    \n",
    "    loss = tf.reduce_mean(tf.square(targets - features))\n",
    "\n",
    "    return loss\n",
    "\n",
    "def content_loss(features, targets):\n",
    "    \n",
    "    loss = 0.5 * tf.reduce_mean(tf.square(features, targets))\n",
    "\n",
    "    return loss\n",
    "\n",
    "def gram_matrix(input):\n",
    "    \n",
    "    gram = tf.linalg.einsum(\"bijc,bijd->bcd\", input, input)\n",
    "    shape = tf.shape(input)\n",
    "    num_locations = tf.cast(shape[1] * shape[2], tf.float32)\n",
    "    scaled_gram = gram / num_locations\n",
    "\n",
    "    return scaled_gram"
   ]
  },
  {
   "cell_type": "code",
   "execution_count": null,
   "metadata": {},
   "outputs": [],
   "source": []
  }
 ],
 "metadata": {
  "kernelspec": {
   "display_name": "tf",
   "language": "python",
   "name": "python3"
  },
  "language_info": {
   "codemirror_mode": {
    "name": "ipython",
    "version": 3
   },
   "file_extension": ".py",
   "mimetype": "text/x-python",
   "name": "python",
   "nbconvert_exporter": "python",
   "pygments_lexer": "ipython3",
   "version": "3.9.18"
  }
 },
 "nbformat": 4,
 "nbformat_minor": 2
}
