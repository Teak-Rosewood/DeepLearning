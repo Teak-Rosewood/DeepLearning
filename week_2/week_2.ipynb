{
 "cells": [
  {
   "cell_type": "code",
   "execution_count": 1,
   "id": "7d71ad04-09bc-46ea-ab3d-1241c286c8e3",
   "metadata": {},
   "outputs": [
    {
     "name": "stderr",
     "output_type": "stream",
     "text": [
      "2023-08-14 10:28:38.120192: I tensorflow/core/util/port.cc:110] oneDNN custom operations are on. You may see slightly different numerical results due to floating-point round-off errors from different computation orders. To turn them off, set the environment variable `TF_ENABLE_ONEDNN_OPTS=0`.\n",
      "2023-08-14 10:28:38.149031: I tensorflow/core/platform/cpu_feature_guard.cc:182] This TensorFlow binary is optimized to use available CPU instructions in performance-critical operations.\n",
      "To enable the following instructions: AVX2 AVX_VNNI FMA, in other operations, rebuild TensorFlow with the appropriate compiler flags.\n",
      "2023-08-14 10:28:38.553730: W tensorflow/compiler/tf2tensorrt/utils/py_utils.cc:38] TF-TRT Warning: Could not find TensorRT\n"
     ]
    }
   ],
   "source": [
    "import numpy as np\n",
    "import tensorflow as tf\n",
    "import pandas as pd\n",
    "from tensorflow.keras.models import Sequential\n",
    "from tensorflow.keras.layers import Dense, Input"
   ]
  },
  {
   "cell_type": "code",
   "execution_count": 2,
   "id": "c72676b0-b120-442d-bc45-4b7b006589ba",
   "metadata": {},
   "outputs": [
    {
     "name": "stdout",
     "output_type": "stream",
     "text": [
      "[PhysicalDevice(name='/physical_device:GPU:0', device_type='GPU')]\n"
     ]
    },
    {
     "name": "stderr",
     "output_type": "stream",
     "text": [
      "2023-08-14 10:28:39.141415: I tensorflow/compiler/xla/stream_executor/cuda/cuda_gpu_executor.cc:995] successful NUMA node read from SysFS had negative value (-1), but there must be at least one NUMA node, so returning NUMA node zero. See more at https://github.com/torvalds/linux/blob/v6.0/Documentation/ABI/testing/sysfs-bus-pci#L344-L355\n",
      "2023-08-14 10:28:39.161399: I tensorflow/compiler/xla/stream_executor/cuda/cuda_gpu_executor.cc:995] successful NUMA node read from SysFS had negative value (-1), but there must be at least one NUMA node, so returning NUMA node zero. See more at https://github.com/torvalds/linux/blob/v6.0/Documentation/ABI/testing/sysfs-bus-pci#L344-L355\n",
      "2023-08-14 10:28:39.161529: I tensorflow/compiler/xla/stream_executor/cuda/cuda_gpu_executor.cc:995] successful NUMA node read from SysFS had negative value (-1), but there must be at least one NUMA node, so returning NUMA node zero. See more at https://github.com/torvalds/linux/blob/v6.0/Documentation/ABI/testing/sysfs-bus-pci#L344-L355\n"
     ]
    }
   ],
   "source": [
    "print(tf.config.list_physical_devices('GPU'))"
   ]
  },
  {
   "cell_type": "code",
   "execution_count": 3,
   "id": "66f0a018-8cb6-4b5a-8c2b-c3acbaa59d13",
   "metadata": {},
   "outputs": [
    {
     "data": {
      "text/html": [
       "<div>\n",
       "<style scoped>\n",
       "    .dataframe tbody tr th:only-of-type {\n",
       "        vertical-align: middle;\n",
       "    }\n",
       "\n",
       "    .dataframe tbody tr th {\n",
       "        vertical-align: top;\n",
       "    }\n",
       "\n",
       "    .dataframe thead th {\n",
       "        text-align: right;\n",
       "    }\n",
       "</style>\n",
       "<table border=\"1\" class=\"dataframe\">\n",
       "  <thead>\n",
       "    <tr style=\"text-align: right;\">\n",
       "      <th></th>\n",
       "      <th>RowNumber</th>\n",
       "      <th>CustomerId</th>\n",
       "      <th>Surname</th>\n",
       "      <th>CreditScore</th>\n",
       "      <th>Geography</th>\n",
       "      <th>Gender</th>\n",
       "      <th>Age</th>\n",
       "      <th>Tenure</th>\n",
       "      <th>Balance</th>\n",
       "      <th>NumOfProducts</th>\n",
       "      <th>HasCrCard</th>\n",
       "      <th>IsActiveMember</th>\n",
       "      <th>EstimatedSalary</th>\n",
       "      <th>Exited</th>\n",
       "    </tr>\n",
       "  </thead>\n",
       "  <tbody>\n",
       "    <tr>\n",
       "      <th>0</th>\n",
       "      <td>1</td>\n",
       "      <td>15634602</td>\n",
       "      <td>Hargrave</td>\n",
       "      <td>619</td>\n",
       "      <td>France</td>\n",
       "      <td>Female</td>\n",
       "      <td>42</td>\n",
       "      <td>2</td>\n",
       "      <td>0.00</td>\n",
       "      <td>1</td>\n",
       "      <td>1</td>\n",
       "      <td>1</td>\n",
       "      <td>101348.88</td>\n",
       "      <td>1</td>\n",
       "    </tr>\n",
       "    <tr>\n",
       "      <th>1</th>\n",
       "      <td>2</td>\n",
       "      <td>15647311</td>\n",
       "      <td>Hill</td>\n",
       "      <td>608</td>\n",
       "      <td>Spain</td>\n",
       "      <td>Female</td>\n",
       "      <td>41</td>\n",
       "      <td>1</td>\n",
       "      <td>83807.86</td>\n",
       "      <td>1</td>\n",
       "      <td>0</td>\n",
       "      <td>1</td>\n",
       "      <td>112542.58</td>\n",
       "      <td>0</td>\n",
       "    </tr>\n",
       "    <tr>\n",
       "      <th>2</th>\n",
       "      <td>3</td>\n",
       "      <td>15619304</td>\n",
       "      <td>Onio</td>\n",
       "      <td>502</td>\n",
       "      <td>France</td>\n",
       "      <td>Female</td>\n",
       "      <td>42</td>\n",
       "      <td>8</td>\n",
       "      <td>159660.80</td>\n",
       "      <td>3</td>\n",
       "      <td>1</td>\n",
       "      <td>0</td>\n",
       "      <td>113931.57</td>\n",
       "      <td>1</td>\n",
       "    </tr>\n",
       "    <tr>\n",
       "      <th>3</th>\n",
       "      <td>4</td>\n",
       "      <td>15701354</td>\n",
       "      <td>Boni</td>\n",
       "      <td>699</td>\n",
       "      <td>France</td>\n",
       "      <td>Female</td>\n",
       "      <td>39</td>\n",
       "      <td>1</td>\n",
       "      <td>0.00</td>\n",
       "      <td>2</td>\n",
       "      <td>0</td>\n",
       "      <td>0</td>\n",
       "      <td>93826.63</td>\n",
       "      <td>0</td>\n",
       "    </tr>\n",
       "    <tr>\n",
       "      <th>4</th>\n",
       "      <td>5</td>\n",
       "      <td>15737888</td>\n",
       "      <td>Mitchell</td>\n",
       "      <td>850</td>\n",
       "      <td>Spain</td>\n",
       "      <td>Female</td>\n",
       "      <td>43</td>\n",
       "      <td>2</td>\n",
       "      <td>125510.82</td>\n",
       "      <td>1</td>\n",
       "      <td>1</td>\n",
       "      <td>1</td>\n",
       "      <td>79084.10</td>\n",
       "      <td>0</td>\n",
       "    </tr>\n",
       "  </tbody>\n",
       "</table>\n",
       "</div>"
      ],
      "text/plain": [
       "   RowNumber  CustomerId   Surname  CreditScore Geography  Gender  Age  \\\n",
       "0          1    15634602  Hargrave          619    France  Female   42   \n",
       "1          2    15647311      Hill          608     Spain  Female   41   \n",
       "2          3    15619304      Onio          502    France  Female   42   \n",
       "3          4    15701354      Boni          699    France  Female   39   \n",
       "4          5    15737888  Mitchell          850     Spain  Female   43   \n",
       "\n",
       "   Tenure    Balance  NumOfProducts  HasCrCard  IsActiveMember  \\\n",
       "0       2       0.00              1          1               1   \n",
       "1       1   83807.86              1          0               1   \n",
       "2       8  159660.80              3          1               0   \n",
       "3       1       0.00              2          0               0   \n",
       "4       2  125510.82              1          1               1   \n",
       "\n",
       "   EstimatedSalary  Exited  \n",
       "0        101348.88       1  \n",
       "1        112542.58       0  \n",
       "2        113931.57       1  \n",
       "3         93826.63       0  \n",
       "4         79084.10       0  "
      ]
     },
     "execution_count": 3,
     "metadata": {},
     "output_type": "execute_result"
    }
   ],
   "source": [
    "df = pd.read_csv('Churn_Modelling.csv')\n",
    "df.head()"
   ]
  },
  {
   "cell_type": "code",
   "execution_count": 4,
   "id": "fe31f08b-5eec-4f43-98e8-8bcdd9973201",
   "metadata": {},
   "outputs": [
    {
     "data": {
      "text/html": [
       "<div>\n",
       "<style scoped>\n",
       "    .dataframe tbody tr th:only-of-type {\n",
       "        vertical-align: middle;\n",
       "    }\n",
       "\n",
       "    .dataframe tbody tr th {\n",
       "        vertical-align: top;\n",
       "    }\n",
       "\n",
       "    .dataframe thead th {\n",
       "        text-align: right;\n",
       "    }\n",
       "</style>\n",
       "<table border=\"1\" class=\"dataframe\">\n",
       "  <thead>\n",
       "    <tr style=\"text-align: right;\">\n",
       "      <th></th>\n",
       "      <th>RowNumber</th>\n",
       "      <th>CustomerId</th>\n",
       "      <th>Surname</th>\n",
       "      <th>CreditScore</th>\n",
       "      <th>Geography</th>\n",
       "      <th>Gender</th>\n",
       "      <th>Age</th>\n",
       "      <th>Tenure</th>\n",
       "      <th>Balance</th>\n",
       "      <th>NumOfProducts</th>\n",
       "      <th>HasCrCard</th>\n",
       "      <th>IsActiveMember</th>\n",
       "      <th>EstimatedSalary</th>\n",
       "      <th>Exited</th>\n",
       "    </tr>\n",
       "  </thead>\n",
       "  <tbody>\n",
       "    <tr>\n",
       "      <th>0</th>\n",
       "      <td>1</td>\n",
       "      <td>15634602</td>\n",
       "      <td>Hargrave</td>\n",
       "      <td>619</td>\n",
       "      <td>0</td>\n",
       "      <td>0</td>\n",
       "      <td>42</td>\n",
       "      <td>2</td>\n",
       "      <td>0.00</td>\n",
       "      <td>1</td>\n",
       "      <td>1</td>\n",
       "      <td>1</td>\n",
       "      <td>101348.88</td>\n",
       "      <td>1</td>\n",
       "    </tr>\n",
       "    <tr>\n",
       "      <th>1</th>\n",
       "      <td>2</td>\n",
       "      <td>15647311</td>\n",
       "      <td>Hill</td>\n",
       "      <td>608</td>\n",
       "      <td>2</td>\n",
       "      <td>0</td>\n",
       "      <td>41</td>\n",
       "      <td>1</td>\n",
       "      <td>83807.86</td>\n",
       "      <td>1</td>\n",
       "      <td>0</td>\n",
       "      <td>1</td>\n",
       "      <td>112542.58</td>\n",
       "      <td>0</td>\n",
       "    </tr>\n",
       "    <tr>\n",
       "      <th>2</th>\n",
       "      <td>3</td>\n",
       "      <td>15619304</td>\n",
       "      <td>Onio</td>\n",
       "      <td>502</td>\n",
       "      <td>0</td>\n",
       "      <td>0</td>\n",
       "      <td>42</td>\n",
       "      <td>8</td>\n",
       "      <td>159660.80</td>\n",
       "      <td>3</td>\n",
       "      <td>1</td>\n",
       "      <td>0</td>\n",
       "      <td>113931.57</td>\n",
       "      <td>1</td>\n",
       "    </tr>\n",
       "    <tr>\n",
       "      <th>3</th>\n",
       "      <td>4</td>\n",
       "      <td>15701354</td>\n",
       "      <td>Boni</td>\n",
       "      <td>699</td>\n",
       "      <td>0</td>\n",
       "      <td>0</td>\n",
       "      <td>39</td>\n",
       "      <td>1</td>\n",
       "      <td>0.00</td>\n",
       "      <td>2</td>\n",
       "      <td>0</td>\n",
       "      <td>0</td>\n",
       "      <td>93826.63</td>\n",
       "      <td>0</td>\n",
       "    </tr>\n",
       "    <tr>\n",
       "      <th>4</th>\n",
       "      <td>5</td>\n",
       "      <td>15737888</td>\n",
       "      <td>Mitchell</td>\n",
       "      <td>850</td>\n",
       "      <td>2</td>\n",
       "      <td>0</td>\n",
       "      <td>43</td>\n",
       "      <td>2</td>\n",
       "      <td>125510.82</td>\n",
       "      <td>1</td>\n",
       "      <td>1</td>\n",
       "      <td>1</td>\n",
       "      <td>79084.10</td>\n",
       "      <td>0</td>\n",
       "    </tr>\n",
       "  </tbody>\n",
       "</table>\n",
       "</div>"
      ],
      "text/plain": [
       "   RowNumber  CustomerId   Surname  CreditScore  Geography  Gender  Age  \\\n",
       "0          1    15634602  Hargrave          619          0       0   42   \n",
       "1          2    15647311      Hill          608          2       0   41   \n",
       "2          3    15619304      Onio          502          0       0   42   \n",
       "3          4    15701354      Boni          699          0       0   39   \n",
       "4          5    15737888  Mitchell          850          2       0   43   \n",
       "\n",
       "   Tenure    Balance  NumOfProducts  HasCrCard  IsActiveMember  \\\n",
       "0       2       0.00              1          1               1   \n",
       "1       1   83807.86              1          0               1   \n",
       "2       8  159660.80              3          1               0   \n",
       "3       1       0.00              2          0               0   \n",
       "4       2  125510.82              1          1               1   \n",
       "\n",
       "   EstimatedSalary  Exited  \n",
       "0        101348.88       1  \n",
       "1        112542.58       0  \n",
       "2        113931.57       1  \n",
       "3         93826.63       0  \n",
       "4         79084.10       0  "
      ]
     },
     "execution_count": 4,
     "metadata": {},
     "output_type": "execute_result"
    }
   ],
   "source": [
    "from sklearn.preprocessing import LabelEncoder\n",
    "\n",
    "le = LabelEncoder()\n",
    "df['Gender'] = le.fit_transform(df['Gender'])\n",
    "df['Geography'] = le.fit_transform(df['Geography'])\n",
    "df.head()"
   ]
  },
  {
   "cell_type": "code",
   "execution_count": 5,
   "id": "7e512b20-5b59-4a72-bdf4-56194b3d66f9",
   "metadata": {},
   "outputs": [
    {
     "name": "stderr",
     "output_type": "stream",
     "text": [
      "2023-08-14 10:28:39.396310: I tensorflow/compiler/xla/stream_executor/cuda/cuda_gpu_executor.cc:995] successful NUMA node read from SysFS had negative value (-1), but there must be at least one NUMA node, so returning NUMA node zero. See more at https://github.com/torvalds/linux/blob/v6.0/Documentation/ABI/testing/sysfs-bus-pci#L344-L355\n",
      "2023-08-14 10:28:39.396489: I tensorflow/compiler/xla/stream_executor/cuda/cuda_gpu_executor.cc:995] successful NUMA node read from SysFS had negative value (-1), but there must be at least one NUMA node, so returning NUMA node zero. See more at https://github.com/torvalds/linux/blob/v6.0/Documentation/ABI/testing/sysfs-bus-pci#L344-L355\n",
      "2023-08-14 10:28:39.396566: I tensorflow/compiler/xla/stream_executor/cuda/cuda_gpu_executor.cc:995] successful NUMA node read from SysFS had negative value (-1), but there must be at least one NUMA node, so returning NUMA node zero. See more at https://github.com/torvalds/linux/blob/v6.0/Documentation/ABI/testing/sysfs-bus-pci#L344-L355\n",
      "2023-08-14 10:28:39.771556: I tensorflow/compiler/xla/stream_executor/cuda/cuda_gpu_executor.cc:995] successful NUMA node read from SysFS had negative value (-1), but there must be at least one NUMA node, so returning NUMA node zero. See more at https://github.com/torvalds/linux/blob/v6.0/Documentation/ABI/testing/sysfs-bus-pci#L344-L355\n",
      "2023-08-14 10:28:39.771699: I tensorflow/compiler/xla/stream_executor/cuda/cuda_gpu_executor.cc:995] successful NUMA node read from SysFS had negative value (-1), but there must be at least one NUMA node, so returning NUMA node zero. See more at https://github.com/torvalds/linux/blob/v6.0/Documentation/ABI/testing/sysfs-bus-pci#L344-L355\n",
      "2023-08-14 10:28:39.771778: I tensorflow/compiler/xla/stream_executor/cuda/cuda_gpu_executor.cc:995] successful NUMA node read from SysFS had negative value (-1), but there must be at least one NUMA node, so returning NUMA node zero. See more at https://github.com/torvalds/linux/blob/v6.0/Documentation/ABI/testing/sysfs-bus-pci#L344-L355\n",
      "2023-08-14 10:28:39.771850: I tensorflow/core/common_runtime/gpu/gpu_device.cc:1639] Created device /job:localhost/replica:0/task:0/device:GPU:0 with 4423 MB memory:  -> device: 0, name: NVIDIA GeForce GTX 1660 Ti, pci bus id: 0000:01:00.0, compute capability: 7.5\n"
     ]
    }
   ],
   "source": [
    "X = df.iloc[:, [3, 4, 5, 6, 7, 8, 9, 10, 11, 12]]\n",
    "y = df.iloc[:, [13]]\n",
    "X = tf.convert_to_tensor(X)\n",
    "y = tf.convert_to_tensor(y)"
   ]
  },
  {
   "cell_type": "code",
   "execution_count": 6,
   "id": "335d59d5-7bd7-4946-9abe-151962ecf379",
   "metadata": {},
   "outputs": [],
   "source": [
    "num_samples, attributes = df.shape\n",
    "split_ratio = 0.85\n",
    "split_index = int(num_samples * split_ratio)\n",
    "X_train, X_test = X[:split_index], X[split_index:]\n",
    "y_train, y_test = y[:split_index], y[split_index:]"
   ]
  },
  {
   "cell_type": "code",
   "execution_count": 7,
   "id": "e4be81e8-0d6a-44ba-9185-8c3286c5d429",
   "metadata": {},
   "outputs": [],
   "source": [
    "model = Sequential([\n",
    "Input(shape=(10,)),\n",
    "Dense(units=128, activation='relu'),\n",
    "#Dense(units=64, activation='relu'),\n",
    "#Dense(units=32, activation='relu'),\n",
    "Dense(units=1, activation='sigmoid')\n",
    "])        "
   ]
  },
  {
   "cell_type": "code",
   "execution_count": 8,
   "id": "b1574cf8-2fe4-4cc8-948a-e0175ab40873",
   "metadata": {},
   "outputs": [
    {
     "name": "stdout",
     "output_type": "stream",
     "text": [
      "Model: \"sequential\"\n",
      "_________________________________________________________________\n",
      " Layer (type)                Output Shape              Param #   \n",
      "=================================================================\n",
      " dense (Dense)               (None, 128)               1408      \n",
      "                                                                 \n",
      " dense_1 (Dense)             (None, 1)                 129       \n",
      "                                                                 \n",
      "=================================================================\n",
      "Total params: 1537 (6.00 KB)\n",
      "Trainable params: 1537 (6.00 KB)\n",
      "Non-trainable params: 0 (0.00 Byte)\n",
      "_________________________________________________________________\n"
     ]
    }
   ],
   "source": [
    "model.summary()"
   ]
  },
  {
   "cell_type": "code",
   "execution_count": 9,
   "id": "830224fd-1968-426c-960d-f0151a4a9d2e",
   "metadata": {},
   "outputs": [],
   "source": [
    "model.compile(loss=tf.keras.losses.BinaryCrossentropy(),\n",
    "                metrics = ['accuracy'],\n",
    "              optimizer = tf.keras.optimizers.Adam(\n",
    "                learning_rate=0.1\n",
    "              ))"
   ]
  },
  {
   "cell_type": "code",
   "execution_count": 10,
   "id": "6c9e5b7d-6090-4975-ae51-d45a474966b0",
   "metadata": {},
   "outputs": [
    {
     "name": "stdout",
     "output_type": "stream",
     "text": [
      "Epoch 1/10\n"
     ]
    },
    {
     "name": "stderr",
     "output_type": "stream",
     "text": [
      "2023-08-14 10:28:40.521156: I tensorflow/compiler/xla/service/service.cc:168] XLA service 0x7fa2d4002970 initialized for platform CUDA (this does not guarantee that XLA will be used). Devices:\n",
      "2023-08-14 10:28:40.521187: I tensorflow/compiler/xla/service/service.cc:176]   StreamExecutor device (0): NVIDIA GeForce GTX 1660 Ti, Compute Capability 7.5\n",
      "2023-08-14 10:28:40.525244: I tensorflow/compiler/mlir/tensorflow/utils/dump_mlir_util.cc:255] disabling MLIR crash reproducer, set env var `MLIR_CRASH_REPRODUCER_DIRECTORY` to enable.\n",
      "2023-08-14 10:28:40.618592: I tensorflow/compiler/xla/stream_executor/cuda/cuda_dnn.cc:432] Loaded cuDNN version 8600\n",
      "2023-08-14 10:28:40.689864: I ./tensorflow/compiler/jit/device_compiler.h:186] Compiled cluster using XLA!  This line is logged at most once for the lifetime of the process.\n"
     ]
    },
    {
     "name": "stdout",
     "output_type": "stream",
     "text": [
      "240/240 [==============================] - 2s 4ms/step - loss: 946.3726 - accuracy: 0.7757 - val_loss: 0.5335 - val_accuracy: 0.7776\n",
      "Epoch 2/10\n",
      "240/240 [==============================] - 1s 4ms/step - loss: 0.5092 - accuracy: 0.7941 - val_loss: 0.5326 - val_accuracy: 0.7776\n",
      "Epoch 3/10\n",
      "240/240 [==============================] - 1s 4ms/step - loss: 0.5105 - accuracy: 0.7941 - val_loss: 0.5303 - val_accuracy: 0.7776\n",
      "Epoch 4/10\n",
      "240/240 [==============================] - 1s 4ms/step - loss: 0.5100 - accuracy: 0.7941 - val_loss: 0.5298 - val_accuracy: 0.7776\n",
      "Epoch 5/10\n",
      "240/240 [==============================] - 1s 4ms/step - loss: 0.5118 - accuracy: 0.7941 - val_loss: 0.5334 - val_accuracy: 0.7776\n",
      "Epoch 6/10\n",
      "240/240 [==============================] - 1s 4ms/step - loss: 0.5095 - accuracy: 0.7941 - val_loss: 0.5301 - val_accuracy: 0.7776\n",
      "Epoch 7/10\n",
      "240/240 [==============================] - 1s 4ms/step - loss: 0.5101 - accuracy: 0.7941 - val_loss: 0.5303 - val_accuracy: 0.7776\n",
      "Epoch 8/10\n",
      "240/240 [==============================] - 1s 4ms/step - loss: 0.5113 - accuracy: 0.7941 - val_loss: 0.5302 - val_accuracy: 0.7776\n",
      "Epoch 9/10\n",
      "240/240 [==============================] - 1s 4ms/step - loss: 0.5110 - accuracy: 0.7941 - val_loss: 0.5306 - val_accuracy: 0.7776\n",
      "Epoch 10/10\n",
      "240/240 [==============================] - 1s 4ms/step - loss: 0.5107 - accuracy: 0.7941 - val_loss: 0.5336 - val_accuracy: 0.7776\n"
     ]
    }
   ],
   "source": [
    "history = model.fit(\n",
    "    X_train,\n",
    "    y_train,\n",
    "    epochs=10, validation_split=0.1)"
   ]
  },
  {
   "cell_type": "code",
   "execution_count": 11,
   "id": "e18ccf49-a913-43e3-9d79-4232e3f5cf8f",
   "metadata": {},
   "outputs": [
    {
     "name": "stdout",
     "output_type": "stream",
     "text": [
      "Epoch 1/20\n",
      "240/240 [==============================] - 2s 4ms/step - loss: 231.1250 - accuracy: 0.6928 - val_loss: 0.5606 - val_accuracy: 0.7776\n",
      "Epoch 2/20\n",
      "240/240 [==============================] - 1s 4ms/step - loss: 0.5705 - accuracy: 0.7872 - val_loss: 0.5376 - val_accuracy: 0.7776\n",
      "Epoch 3/20\n",
      "240/240 [==============================] - 1s 4ms/step - loss: 0.5150 - accuracy: 0.7941 - val_loss: 0.5284 - val_accuracy: 0.7776\n",
      "Epoch 4/20\n",
      "240/240 [==============================] - 1s 4ms/step - loss: 0.5052 - accuracy: 0.7941 - val_loss: 0.5264 - val_accuracy: 0.7776\n",
      "Epoch 5/20\n",
      "240/240 [==============================] - 1s 4ms/step - loss: 0.5046 - accuracy: 0.7941 - val_loss: 0.5235 - val_accuracy: 0.7776\n",
      "Epoch 6/20\n",
      "240/240 [==============================] - 1s 4ms/step - loss: 0.5045 - accuracy: 0.7941 - val_loss: 0.5237 - val_accuracy: 0.7776\n",
      "Epoch 7/20\n",
      "240/240 [==============================] - 1s 4ms/step - loss: 0.5057 - accuracy: 0.7941 - val_loss: 0.5253 - val_accuracy: 0.7776\n",
      "Epoch 8/20\n",
      "240/240 [==============================] - 1s 4ms/step - loss: 0.5073 - accuracy: 0.7941 - val_loss: 0.5307 - val_accuracy: 0.7776\n",
      "Epoch 9/20\n",
      "240/240 [==============================] - 1s 4ms/step - loss: 0.5086 - accuracy: 0.7941 - val_loss: 0.5305 - val_accuracy: 0.7776\n",
      "Epoch 10/20\n",
      "240/240 [==============================] - 1s 4ms/step - loss: 0.5085 - accuracy: 0.7941 - val_loss: 0.5307 - val_accuracy: 0.7776\n",
      "Epoch 11/20\n",
      "240/240 [==============================] - 1s 5ms/step - loss: 0.5088 - accuracy: 0.7939 - val_loss: 0.5307 - val_accuracy: 0.7776\n",
      "Epoch 12/20\n",
      "240/240 [==============================] - 1s 4ms/step - loss: 0.5087 - accuracy: 0.7941 - val_loss: 0.5296 - val_accuracy: 0.7776\n",
      "Epoch 13/20\n",
      "240/240 [==============================] - 1s 5ms/step - loss: 2.8139 - accuracy: 0.7918 - val_loss: 0.5308 - val_accuracy: 0.7776\n",
      "Epoch 14/20\n",
      "240/240 [==============================] - 1s 4ms/step - loss: 0.5085 - accuracy: 0.7941 - val_loss: 0.5303 - val_accuracy: 0.7776\n",
      "Epoch 15/20\n",
      "240/240 [==============================] - 1s 3ms/step - loss: 0.5086 - accuracy: 0.7941 - val_loss: 0.5310 - val_accuracy: 0.7776\n",
      "Epoch 16/20\n",
      "240/240 [==============================] - 1s 5ms/step - loss: 0.5086 - accuracy: 0.7941 - val_loss: 0.5303 - val_accuracy: 0.7776\n",
      "Epoch 17/20\n",
      "240/240 [==============================] - 0s 2ms/step - loss: 0.5086 - accuracy: 0.7941 - val_loss: 0.5311 - val_accuracy: 0.7776\n",
      "Epoch 18/20\n",
      "240/240 [==============================] - 0s 1ms/step - loss: 0.5086 - accuracy: 0.7941 - val_loss: 0.5308 - val_accuracy: 0.7776\n",
      "Epoch 19/20\n",
      "240/240 [==============================] - 0s 2ms/step - loss: 0.5086 - accuracy: 0.7941 - val_loss: 0.5304 - val_accuracy: 0.7776\n",
      "Epoch 20/20\n",
      "240/240 [==============================] - 0s 2ms/step - loss: 0.5085 - accuracy: 0.7941 - val_loss: 0.5303 - val_accuracy: 0.7776\n",
      "47/47 [==============================] - 0s 787us/step - loss: 0.4756 - accuracy: 0.8180\n",
      "Test Loss: 0.475613534450531\n",
      "Test Accuracy: 0.8180000185966492\n"
     ]
    }
   ],
   "source": [
    "model = Sequential([\n",
    "Input(shape=(10,)),\n",
    "Dense(units=128, activation='relu'),\n",
    "Dense(units=64, activation='relu'),\n",
    "#Dense(units=32, activation='relu'),\n",
    "Dense(units=1, activation='sigmoid')\n",
    "])\n",
    "model.compile(loss=tf.keras.losses.BinaryCrossentropy(),\n",
    "                metrics = ['accuracy'],\n",
    "              optimizer = tf.keras.optimizers.Adam(\n",
    "                learning_rate=0.01\n",
    "              ))\n",
    "history1 = model.fit(\n",
    "    X_train,\n",
    "    y_train,\n",
    "    epochs=20, validation_split=0.1)\n",
    "loss, accuracy = model.evaluate(X_test, y_test)\n",
    "print(\"Test Loss:\", loss)\n",
    "print(\"Test Accuracy:\", accuracy)"
   ]
  },
  {
   "cell_type": "code",
   "execution_count": 12,
   "id": "f01945dd-01e3-4d6e-bd94-31150ac917c9",
   "metadata": {},
   "outputs": [
    {
     "name": "stdout",
     "output_type": "stream",
     "text": [
      "Epoch 1/30\n",
      "240/240 [==============================] - 1s 3ms/step - loss: 232.4405 - accuracy: 0.6759 - val_loss: 112.1646 - val_accuracy: 0.7400\n",
      "Epoch 2/30\n",
      "240/240 [==============================] - 1s 4ms/step - loss: 100.6570 - accuracy: 0.6799 - val_loss: 123.8605 - val_accuracy: 0.7776\n",
      "Epoch 3/30\n",
      "240/240 [==============================] - 1s 5ms/step - loss: 69.7683 - accuracy: 0.6773 - val_loss: 41.0462 - val_accuracy: 0.7553\n",
      "Epoch 4/30\n",
      "240/240 [==============================] - 1s 4ms/step - loss: 53.2362 - accuracy: 0.6741 - val_loss: 115.9130 - val_accuracy: 0.7765\n",
      "Epoch 5/30\n",
      "240/240 [==============================] - 1s 4ms/step - loss: 55.6787 - accuracy: 0.6769 - val_loss: 46.3126 - val_accuracy: 0.7776\n",
      "Epoch 6/30\n",
      "240/240 [==============================] - 1s 5ms/step - loss: 33.5390 - accuracy: 0.6769 - val_loss: 41.1197 - val_accuracy: 0.7776\n",
      "Epoch 7/30\n",
      "240/240 [==============================] - 1s 5ms/step - loss: 32.9458 - accuracy: 0.6761 - val_loss: 35.7397 - val_accuracy: 0.7694\n",
      "Epoch 8/30\n",
      "240/240 [==============================] - 1s 4ms/step - loss: 12.8369 - accuracy: 0.6759 - val_loss: 10.1043 - val_accuracy: 0.7212\n",
      "Epoch 9/30\n",
      "240/240 [==============================] - 1s 4ms/step - loss: 8.8513 - accuracy: 0.6820 - val_loss: 10.4851 - val_accuracy: 0.7153\n",
      "Epoch 10/30\n",
      "240/240 [==============================] - 1s 5ms/step - loss: 7.6213 - accuracy: 0.6834 - val_loss: 8.8561 - val_accuracy: 0.7776\n",
      "Epoch 11/30\n",
      "240/240 [==============================] - 1s 5ms/step - loss: 7.7231 - accuracy: 0.6712 - val_loss: 10.5169 - val_accuracy: 0.7765\n",
      "Epoch 12/30\n",
      "240/240 [==============================] - 1s 4ms/step - loss: 5.0502 - accuracy: 0.6791 - val_loss: 2.2921 - val_accuracy: 0.6882\n",
      "Epoch 13/30\n",
      "240/240 [==============================] - 1s 5ms/step - loss: 1.9220 - accuracy: 0.6961 - val_loss: 1.5897 - val_accuracy: 0.6200\n",
      "Epoch 14/30\n",
      "240/240 [==============================] - 1s 4ms/step - loss: 2.2034 - accuracy: 0.6799 - val_loss: 2.1721 - val_accuracy: 0.3106\n",
      "Epoch 15/30\n",
      "240/240 [==============================] - 1s 4ms/step - loss: 1.4540 - accuracy: 0.6959 - val_loss: 1.3372 - val_accuracy: 0.4906\n",
      "Epoch 16/30\n",
      "240/240 [==============================] - 1s 4ms/step - loss: 1.6015 - accuracy: 0.6995 - val_loss: 1.6115 - val_accuracy: 0.6847\n",
      "Epoch 17/30\n",
      "240/240 [==============================] - 1s 5ms/step - loss: 0.9639 - accuracy: 0.7195 - val_loss: 1.1772 - val_accuracy: 0.7471\n",
      "Epoch 18/30\n",
      "240/240 [==============================] - 1s 5ms/step - loss: 1.2229 - accuracy: 0.7118 - val_loss: 1.0749 - val_accuracy: 0.7000\n",
      "Epoch 19/30\n",
      "240/240 [==============================] - 1s 5ms/step - loss: 0.9299 - accuracy: 0.7224 - val_loss: 0.7959 - val_accuracy: 0.7518\n",
      "Epoch 20/30\n",
      "240/240 [==============================] - 1s 5ms/step - loss: 0.7659 - accuracy: 0.7420 - val_loss: 0.7884 - val_accuracy: 0.7741\n",
      "Epoch 21/30\n",
      "240/240 [==============================] - 1s 5ms/step - loss: 0.7710 - accuracy: 0.7373 - val_loss: 0.6962 - val_accuracy: 0.7659\n",
      "Epoch 22/30\n",
      "240/240 [==============================] - 1s 5ms/step - loss: 0.7281 - accuracy: 0.7537 - val_loss: 0.6792 - val_accuracy: 0.7765\n",
      "Epoch 23/30\n",
      "240/240 [==============================] - 1s 4ms/step - loss: 0.8205 - accuracy: 0.7337 - val_loss: 0.9972 - val_accuracy: 0.7765\n",
      "Epoch 24/30\n",
      "240/240 [==============================] - 1s 3ms/step - loss: 0.7291 - accuracy: 0.7484 - val_loss: 1.8865 - val_accuracy: 0.2788\n",
      "Epoch 25/30\n",
      "240/240 [==============================] - 1s 4ms/step - loss: 0.6946 - accuracy: 0.7720 - val_loss: 0.5226 - val_accuracy: 0.7776\n",
      "Epoch 26/30\n",
      "240/240 [==============================] - 1s 5ms/step - loss: 0.5062 - accuracy: 0.7941 - val_loss: 0.5234 - val_accuracy: 0.7765\n",
      "Epoch 27/30\n",
      "240/240 [==============================] - 1s 4ms/step - loss: 0.5054 - accuracy: 0.7941 - val_loss: 0.5231 - val_accuracy: 0.7776\n",
      "Epoch 28/30\n",
      "240/240 [==============================] - 1s 5ms/step - loss: 0.5055 - accuracy: 0.7940 - val_loss: 0.5225 - val_accuracy: 0.7776\n",
      "Epoch 29/30\n",
      "240/240 [==============================] - 1s 5ms/step - loss: 0.5056 - accuracy: 0.7941 - val_loss: 0.5246 - val_accuracy: 0.7776\n",
      "Epoch 30/30\n",
      "240/240 [==============================] - 1s 5ms/step - loss: 0.5038 - accuracy: 0.7941 - val_loss: 0.5232 - val_accuracy: 0.7765\n",
      "47/47 [==============================] - 0s 980us/step - loss: 0.4687 - accuracy: 0.8180\n",
      "Test Loss: 0.46872860193252563\n",
      "Test Accuracy: 0.8180000185966492\n"
     ]
    }
   ],
   "source": [
    "model = Sequential([\n",
    "Input(shape=(10,)),\n",
    "Dense(units=128, activation='relu'),\n",
    "Dense(units=64, activation='relu'),\n",
    "Dense(units=32, activation='relu'),\n",
    "Dense(units=1, activation='sigmoid')\n",
    "])\n",
    "model.compile(loss=tf.keras.losses.BinaryCrossentropy(),\n",
    "                metrics = ['accuracy'],\n",
    "              optimizer = tf.keras.optimizers.Adam(\n",
    "                learning_rate=0.001\n",
    "              ))\n",
    "history2 = model.fit(\n",
    "    X_train,\n",
    "    y_train,\n",
    "    epochs=30, validation_split=0.1)\n",
    "loss, accuracy = model.evaluate(X_test, y_test)\n",
    "print(\"Test Loss:\", loss)\n",
    "print(\"Test Accuracy:\", accuracy)"
   ]
  },
  {
   "cell_type": "code",
   "execution_count": 13,
   "id": "ccfa45c8-b280-4f2b-97d6-c66c9d6f5667",
   "metadata": {},
   "outputs": [
    {
     "data": {
      "text/plain": [
       "<tf.Tensor: shape=(8500, 1), dtype=float32, numpy=\n",
       "array([[0.16515532],\n",
       "       [0.23356098],\n",
       "       [0.23356098],\n",
       "       ...,\n",
       "       [0.19982266],\n",
       "       [0.23356098],\n",
       "       [0.23356098]], dtype=float32)>"
      ]
     },
     "execution_count": 13,
     "metadata": {},
     "output_type": "execute_result"
    }
   ],
   "source": [
    "model([X_train])"
   ]
  },
  {
   "cell_type": "code",
   "execution_count": 14,
   "id": "4045bc2d-11f5-43c5-b7ff-ca73917f9c59",
   "metadata": {},
   "outputs": [
    {
     "name": "stdout",
     "output_type": "stream",
     "text": [
      "47/47 [==============================] - 0s 2ms/step - loss: 0.4687 - accuracy: 0.8180\n",
      "Test Loss: 0.46872860193252563\n",
      "Test Accuracy: 0.8180000185966492\n"
     ]
    }
   ],
   "source": [
    "loss, accuracy = model.evaluate(X_test, y_test)\n",
    "print(\"Test Loss:\", loss)\n",
    "print(\"Test Accuracy:\", accuracy)"
   ]
  },
  {
   "cell_type": "code",
   "execution_count": 17,
   "id": "92268244-2ff8-4f7b-9b8a-7812c0f7159d",
   "metadata": {},
   "outputs": [
    {
     "data": {
      "image/png": "[encoded data removed]",
      "text/plain": [
       "<Figure size 640x480 with 1 Axes>"
      ]
     },
     "metadata": {},
     "output_type": "display_data"
    },
    {
     "data": {
      "image/png": "[encoded data removed]",
      "text/plain": [
       "<Figure size 640x480 with 1 Axes>"
      ]
     },
     "metadata": {},
     "output_type": "display_data"
    }
   ],
   "source": [
    "import matplotlib.pyplot as plt\n",
    "accuracy = history.history['accuracy']\n",
    "loss = history.history['loss']\n",
    "epochs = range(len(accuracy))\n",
    "\n",
    "accuracy_1 = history1.history['accuracy']\n",
    "loss_1 = history1.history['loss']\n",
    "epochs_1 = range(len(accuracy_1))\n",
    "\n",
    "accuracy_2 = history2.history['accuracy']\n",
    "loss_2 = history2.history['loss']\n",
    "epochs_2 = range(len(accuracy_2))\n",
    "\n",
    "plt.plot(epochs, accuracy, 'r', label='model-1')\n",
    "plt.plot(epochs_1, accuracy_1, 'b', label='model-2')\n",
    "plt.plot(epochs_2, accuracy_2, 'g', label='model-3')\n",
    "plt.title('Training accuracy')\n",
    "plt.legend()\n",
    "plt.figure()\n",
    "\n",
    "plt.plot(epochs, loss, 'r', label='model-1')\n",
    "plt.plot(epochs_1, loss_1, 'b', label='model-2')\n",
    "plt.plot(epochs_2, loss_2, 'g', label='model-3')\n",
    "plt.title('Training loss')\n",
    "plt.legend()\n",
    "plt.show()"
   ]
  },
  {
   "cell_type": "code",
   "execution_count": null,
   "id": "db8acc54-5c4c-4de2-a863-9f9a6c98ae8e",
   "metadata": {},
   "outputs": [],
   "source": []
  }
 ],
 "metadata": {
  "kernelspec": {
   "display_name": "Python 3 (ipykernel)",
   "language": "python",
   "name": "python3"
  },
  "language_info": {
   "codemirror_mode": {
    "name": "ipython",
    "version": 3
   },
   "file_extension": ".py",
   "mimetype": "text/x-python",
   "name": "python",
   "nbconvert_exporter": "python",
   "pygments_lexer": "ipython3",
   "version": "3.11.4"
  }
 },
 "nbformat": 4,
 "nbformat_minor": 5
}
